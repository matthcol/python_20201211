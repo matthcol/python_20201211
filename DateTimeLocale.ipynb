{
 "cells": [
  {
   "cell_type": "markdown",
   "metadata": {},
   "source": [
    "# Données temporelles"
   ]
  },
  {
   "cell_type": "code",
   "execution_count": 1,
   "metadata": {},
   "outputs": [],
   "source": [
    "from datetime import date, time, datetime, tzinfo, timedelta\n",
    "import locale\n",
    "import pytz\n",
    "import babel\n",
    "import calendar"
   ]
  },
  {
   "cell_type": "markdown",
   "metadata": {},
   "source": [
    "Le module datetime définit les 3 classes suivantes pour identifier un point dans le temps : date, time et datetime"
   ]
  },
  {
   "cell_type": "code",
   "execution_count": 2,
   "metadata": {},
   "outputs": [
    {
     "data": {
      "text/plain": [
       "datetime.date(2020, 12, 11)"
      ]
     },
     "execution_count": 2,
     "metadata": {},
     "output_type": "execute_result"
    }
   ],
   "source": [
    "# date du jour \n",
    "d = date.today()\n",
    "d"
   ]
  },
  {
   "cell_type": "code",
   "execution_count": 3,
   "metadata": {},
   "outputs": [
    {
     "data": {
      "text/plain": [
       "datetime.datetime(2020, 12, 11, 16, 18, 49, 195027)"
      ]
     },
     "execution_count": 3,
     "metadata": {},
     "output_type": "execute_result"
    }
   ],
   "source": [
    "# date et heure de maintenant\n",
    "dt = datetime.now()\n",
    "dt"
   ]
  },
  {
   "cell_type": "code",
   "execution_count": 4,
   "metadata": {},
   "outputs": [
    {
     "data": {
      "text/plain": [
       "datetime.time(16, 18, 49, 195027)"
      ]
     },
     "execution_count": 4,
     "metadata": {},
     "output_type": "execute_result"
    }
   ],
   "source": [
    "# heure de maitenant\n",
    "t = dt.time()\n",
    "t"
   ]
  },
  {
   "cell_type": "code",
   "execution_count": 5,
   "metadata": {},
   "outputs": [
    {
     "data": {
      "text/plain": [
       "datetime.date(2020, 12, 11)"
      ]
     },
     "execution_count": 5,
     "metadata": {},
     "output_type": "execute_result"
    }
   ],
   "source": [
    "# today = date de maintenant\n",
    "d = dt.date()\n",
    "d"
   ]
  },
  {
   "cell_type": "code",
   "execution_count": 6,
   "metadata": {},
   "outputs": [
    {
     "data": {
      "text/plain": [
       "(2020, 12, 16, 18, 49, 195027)"
      ]
     },
     "execution_count": 6,
     "metadata": {},
     "output_type": "execute_result"
    }
   ],
   "source": [
    "# attributs\n",
    "dt.year, dt.month, dt.hour, dt.minute, dt.second, dt.microsecond"
   ]
  },
  {
   "cell_type": "code",
   "execution_count": 7,
   "metadata": {},
   "outputs": [
    {
     "data": {
      "text/plain": [
       "datetime.date(2020, 2, 29)"
      ]
     },
     "execution_count": 7,
     "metadata": {},
     "output_type": "execute_result"
    }
   ],
   "source": [
    "# make a date\n",
    "dateFuture = date(2020,2,29)\n",
    "dateFuture"
   ]
  },
  {
   "cell_type": "code",
   "execution_count": 8,
   "metadata": {},
   "outputs": [
    {
     "data": {
      "text/plain": [
       "datetime.time(15, 2, 29)"
      ]
     },
     "execution_count": 8,
     "metadata": {},
     "output_type": "execute_result"
    }
   ],
   "source": [
    "# make a time\n",
    "teaTime = time(15,2,29)\n",
    "teaTime"
   ]
  },
  {
   "cell_type": "code",
   "execution_count": 9,
   "metadata": {},
   "outputs": [
    {
     "data": {
      "text/plain": [
       "datetime.datetime(2019, 7, 12, 16, 0)"
      ]
     },
     "execution_count": 9,
     "metadata": {},
     "output_type": "execute_result"
    }
   ],
   "source": [
    "# make a time\n",
    "dtWeekEnd = datetime(2019,7,12,16)\n",
    "dtWeekEnd"
   ]
  },
  {
   "cell_type": "markdown",
   "metadata": {},
   "source": [
    "## Arithmétique sur les données temporelles"
   ]
  },
  {
   "cell_type": "code",
   "execution_count": 10,
   "metadata": {},
   "outputs": [
    {
     "data": {
      "text/plain": [
       "datetime.timedelta(days=-286)"
      ]
     },
     "execution_count": 10,
     "metadata": {},
     "output_type": "execute_result"
    }
   ],
   "source": [
    "dateFuture - d"
   ]
  },
  {
   "cell_type": "code",
   "execution_count": 11,
   "metadata": {},
   "outputs": [
    {
     "data": {
      "text/plain": [
       "datetime.timedelta(days=-519, seconds=85270, microseconds=804973)"
      ]
     },
     "execution_count": 11,
     "metadata": {},
     "output_type": "execute_result"
    }
   ],
   "source": [
    "dtWeekEnd - dt"
   ]
  },
  {
   "cell_type": "code",
   "execution_count": 12,
   "metadata": {},
   "outputs": [
    {
     "data": {
      "text/plain": [
       "(datetime.date(2021, 1, 11),\n",
       " datetime.date(2021, 2, 11),\n",
       " datetime.date(2021, 3, 14))"
      ]
     },
     "execution_count": 12,
     "metadata": {},
     "output_type": "execute_result"
    }
   ],
   "source": [
    "delta = timedelta(days=31)\n",
    "d + delta, d + 2*delta, d + 3*delta"
   ]
  },
  {
   "cell_type": "markdown",
   "metadata": {},
   "source": [
    "### Format de données temporelles"
   ]
  },
  {
   "cell_type": "code",
   "execution_count": 13,
   "metadata": {},
   "outputs": [
    {
     "name": "stdout",
     "output_type": "stream",
     "text": [
      "2020-12-11 16:18:49.195027\n",
      "11/12/2020\n",
      "16h18\n",
      "Friday 11 December 2020 à 16h18'49\"\n"
     ]
    }
   ],
   "source": [
    "# Formatage des données (vers l'utilisateur) :\n",
    "print(dt) # ISO format\n",
    "print(d.strftime('%d/%m/%Y'))\n",
    "print(t.strftime('%Hh%M'))\n",
    "print(dt.strftime(\"%A %d %B %Y à %Hh%M'%S\\\"\")) # avec local par défaut"
   ]
  },
  {
   "cell_type": "code",
   "execution_count": 14,
   "metadata": {},
   "outputs": [
    {
     "data": {
      "text/plain": [
       "datetime.date(2019, 7, 13)"
      ]
     },
     "execution_count": 14,
     "metadata": {},
     "output_type": "execute_result"
    }
   ],
   "source": [
    "# Parsing d'une entrée utilisateur\n",
    "d = datetime.strptime('13/07/2019', '%d/%m/%Y').date()\n",
    "d"
   ]
  },
  {
   "cell_type": "markdown",
   "metadata": {},
   "source": [
    "### Locale(s)"
   ]
  },
  {
   "cell_type": "code",
   "execution_count": 15,
   "metadata": {},
   "outputs": [
    {
     "data": {
      "text/plain": [
       "('fr_FR', 'cp1252')"
      ]
     },
     "execution_count": 15,
     "metadata": {},
     "output_type": "execute_result"
    }
   ],
   "source": [
    "locale.getlocale()"
   ]
  },
  {
   "cell_type": "code",
   "execution_count": 16,
   "metadata": {},
   "outputs": [
    {
     "name": "stdout",
     "output_type": "stream",
     "text": [
      "mardi 29 février\n",
      "Tuesday 29 February\n",
      "вторник 29 февруари\n",
      "الثلاثاء 29 فيفرييه\n"
     ]
    }
   ],
   "source": [
    "# en changeant de locale\n",
    "d = date(2000, 2, 29)\n",
    "locale.setlocale(locale.LC_ALL, 'fr_FR.UTF8')\n",
    "print(d.strftime('%A %d %B'))\n",
    "locale.setlocale(locale.LC_ALL, 'us_US.UTF8')\n",
    "print(d.strftime('%A %d %B'))\n",
    "locale.setlocale(locale.LC_ALL, 'bg_BG.UTF8')\n",
    "print(d.strftime('%A %d %B'))\n",
    "locale.setlocale(locale.LC_ALL, 'ar_DZ.UTF8')\n",
    "print(d.strftime('%A %d %B'))"
   ]
  },
  {
   "cell_type": "code",
   "execution_count": 17,
   "metadata": {},
   "outputs": [
    {
     "name": "stdout",
     "output_type": "stream",
     "text": [
      "af : Vrydag 11 Desember : R9999,99\n",
      "af_NA : Vrydag 11 Desember : $9999,99\n",
      "af_ZA : Vrydag 11 Desember : R9999,99\n",
      "agq : tsuʔughɨ̂m 11 ndzɔ̀ŋèfwòo : 10000FCFA\n",
      "agq_CM : tsuʔughɨ̂m 11 ndzɔ̀ŋèfwòo : 10000FCFA\n",
      "ak : Fida 11 Mumu-Ɔpɛnimba : GH₵9999.99\n",
      "ak_GH : Fida 11 Mumu-Ɔpɛnimba : GH₵9999.99\n",
      "am : ዓርብ 11 ዲሴምበር : ብር9999.99\n",
      "am_ET : ዓርብ 11 ዲሴምበር : ብር9999.99\n",
      "ar : الجمعة 11 ديسمبر : 9999.99 ر.س.‏\n",
      "ar_001 : الجمعة 11 ديسمبر : XDR 9999.99\n",
      "ar_AE : الجمعة 11 ديسمبر : 9999.99 د.إ.‏\n",
      "ar_BH : الجمعة 11 ديسمبر : 9999.990 د.ب.‏\n",
      "ar_DJ : الجمعة 11 ديسمبر : Fdj 10000\n",
      "ar_DZ : الجمعة 11 ديسمبر : 9999.99 د.ج.‏\n",
      "ar_EG : الجمعة 11 ديسمبر : 9999.99 ج.م.‏\n",
      "ar_EH : الجمعة 11 ديسمبر : 9999.99 ¤\n",
      "ar_ER : الجمعة 11 ديسمبر : Nfk 9999.99\n",
      "ar_IL : الجمعة 11 ديسمبر : ? 9999.99\n",
      "ar_IQ : الجمعة 11 كانون الأول : 9999.99 د.ع.‏\n",
      "ar_JO : الجمعة 11 كانون الأول : 9999.990 د.ا.‏\n",
      "ar_KM : الجمعة 11 ديسمبر : CF 10000\n",
      "ar_KW : الجمعة 11 ديسمبر : 9999.990 د.ك.‏\n",
      "ar_LB : الجمعة 11 كانون الأول : 9999.99 ل.ل.‏\n",
      "ar_LY : الجمعة 11 ديسمبر : 9999.990 د.ل.‏\n",
      "ar_MA : الجمعة 11 دجنبر : 9999.99 د.م.‏\n",
      "ar_MR : الجمعة 11 دجمبر : أ.م. 9999,99\n",
      "ar_OM : الجمعة 11 ديسمبر : 9999.990 ر.ع.‏\n",
      "ar_PS : الجمعة 11 كانون الأول : ? 9999.99\n",
      "ar_QA : الجمعة 11 ديسمبر : 9999.99 ر.ق.‏\n",
      "ar_SA : الجمعة 11 ديسمبر : 9999.99 ر.س.‏\n",
      "ar_SD : الجمعة 11 ديسمبر : ج.س. 9999.99\n",
      "ar_SO : الجمعة 11 ديسمبر : S 10000\n",
      "ar_SS : الجمعة 11 ديسمبر : £ 9999.99\n",
      "ar_SY : الجمعة 11 كانون الأول : 9999.99 ل.س.‏\n",
      "ar_TD : الجمعة 11 ديسمبر : FCFA 10000\n",
      "ar_TN : الجمعة 11 ديسمبر : 9999.990 د.ت.‏\n",
      "ar_YE : الجمعة 11 ديسمبر : 9999.99 ر.ي.‏\n",
      "as : শুক্রবাৰ 11 ডিচেম্বৰ : ₹ 9999.99\n",
      "asa : Ijumaa 11 Desemba : 9999.99 TSh\n",
      "asa_TZ : Ijumaa 11 Desemba : 9999.99 TSh\n",
      "ast : vienres 11 avientu : 9999,99 €\n",
      "ast_ES : vienres 11 avientu : 9999,99 €\n",
      "as_IN : শুক্রবাৰ 11 ডিচেম্বৰ : ₹ 9999.99\n",
      "az : cüm? 11 Dekabr : 9999,99 ?\n",
      "az_Cyrl : ??м? 11 декабр : 9999,99 ?\n",
      "az_Cyrl_AZ : ??м? 11 декабр : 9999,99 ?\n",
      "az_Latn : cüm? 11 Dekabr : 9999,99 ?\n",
      "az_Latn_AZ : cüm? 11 Dekabr : 9999,99 ?\n",
      "bas : Йома 11 декабрь : 9999,99 ?\n",
      "bas_CM : ŋgwà kɔɔ 11 Lìbuy li ńyèe : 10000 FCFA\n",
      "be : пятніца 11 снежань : 9999,99 Br\n",
      "bem : Palichisano 11 Disemba : K9999.99\n",
      "bem_ZM : Palichisano 11 Disemba : K9999.99\n",
      "bez : pa hihanu 11 pa mwedzi gwa kumi na mbili : 9999.99TSh\n",
      "bez_TZ : pa hihanu 11 pa mwedzi gwa kumi na mbili : 9999.99TSh\n",
      "be_BY : пятніца 11 снежань : 9999,99 Br\n",
      "bg : петък 11 декември : 9999,99 лв.\n",
      "bg_BG : петък 11 декември : 9999,99 лв.\n",
      "bm : juma 11 desanburu : CFA10000\n",
      "bm_ML : juma 11 desanburu : CFA10000\n",
      "bn : শুক্রবার 11 ডিসেম্বর : 9999.99৳\n",
      "bn_BD : শুক্রবার 11 ডিসেম্বর : 9999.99৳\n",
      "bn_IN : শুক্রবার 11 ডিসেম্বর : ₹ 9999.99\n",
      "bo : གཟའ་པ་སངས། 11 སྤྱི་ཟླ་བཅུ་གཉིས་པ། : ¥9999.99\n",
      "bo_CN : གཟའ་པ་སངས། 11 སྤྱི་ཟླ་བཅུ་གཉིས་པ། : ¥9999.99\n",
      "bo_IN : གཟའ་པ་སངས་ 11 ཟླ་བ་བཅུ་གཉིས་པ་ : ₹ 9999.99\n",
      "br : Gwener 11 Kerzu : 9999,99 €\n",
      "brx : सुखुरबार 11 दिसेज्ब़र : ₹ 9999.99\n",
      "brx_IN : सुखुरबार 11 दिसेज्ब़र : ₹ 9999.99\n",
      "br_FR : Gwener 11 Kerzu : 9999,99 €\n",
      "bs : petak 11 decembar : 9999,99 KM\n",
      "bs_Cyrl : петак 11 децембар : 9999,99 КМ\n",
      "bs_Cyrl_BA : петак 11 децембар : 9999,99 КМ\n",
      "bs_Latn : petak 11 decembar : 9999,99 KM\n",
      "bs_Latn_BA : petak 11 decembar : 9999,99 KM\n",
      "ca : divendres 11 desembre : 9999,99 €\n",
      "ca_AD : divendres 11 desembre : 9999,99 €\n",
      "ca_ES : divendres 11 desembre : 9999,99 €\n",
      "ca_ES_VALENCIA : divendres 11 desembre : 9999,99 €\n",
      "ca_FR : divendres 11 desembre : 9999,99 €\n",
      "ca_IT : divendres 11 desembre : 9999,99 €\n",
      "ccp : Friday 11 December : ¤+9999.99\n",
      "ccp_BD : Friday 11 December : ?+9999.99\n",
      "ccp_IN : Friday 11 December : ?+9999.99\n",
      "ce : пӀераска 11 декабрь : 9999.99 ₽\n",
      "ceb : Friday 11 December : ¤+9999.99\n",
      "ceb_PH : Friday 11 December : ?+9999.99\n",
      "ce_RU : пӀераска 11 декабрь : 9999.99 ₽\n",
      "cgg : Orwakataano 11 Okwaikumi na ibiri : USh10000\n",
      "cgg_UG : Orwakataano 11 Okwaikumi na ibiri : USh10000\n",
      "chr : ᏧᎾᎩᎶᏍᏗ 11 ᎤᏍᎩᏱ : $9999.99\n",
      "chr_US : ᏧᎾᎩᎶᏍᏗ 11 ᎤᏍᎩᏱ : $9999.99\n",
      "ckb : ھ?يني 11 کانوني ي?ک?م : د.ع.‏9999.99\n",
      "ckb_IQ : ھ?يني 11 کانوني ي?ک?م : د.ع.‏9999.99\n",
      "ckb_IR : ھەینی 11 کانونی یەکەم : IRR 10000\n",
      "cs : pátek 11 prosinec : 9999,99 Kč\n",
      "cs_CZ : pátek 11 prosinec : 9999,99 Kč\n",
      "cu : пѧто́къ 11 деке́мврїй : 9999,99 ₽\n",
      "cu_RU : пѧто́къ 11 деке́мврїй : 9999,99 ₽\n",
      "cy : Dydd Gwener 11 Rhagfyr : £9999.99\n",
      "cy_GB : Dydd Gwener 11 Rhagfyr : £9999.99\n",
      "da : fredag 11 december : 9999,99 kr.\n",
      "dav : Kuramuka kasanu 11 Mori ghwa ikumi na iwi : Ksh9999.99\n",
      "dav_KE : Kuramuka kasanu 11 Mori ghwa ikumi na iwi : Ksh9999.99\n",
      "da_DK : fredag 11 december : 9999,99 kr.\n",
      "da_GL : fredag 11 december : 9999,99 kr.\n",
      "de : Freitag 11 Dezember : 9999,99 €\n",
      "de_AT : Freitag 11 Dezember : € 9999,99\n",
      "de_BE : Freitag 11 Dezember : 9999,99 €\n",
      "de_CH : Freitag 11 Dezember : CHF 9999.99\n",
      "de_DE : Freitag 11 Dezember : 9999,99 €\n",
      "de_IT : Freitag 11 Dezember : 9999,99 €\n",
      "de_LI : Freitag 11 Dezember : CHF 9999.99\n",
      "de_LU : Freitag 11 Dezember : 9999,99 €\n",
      "dje : Alzuma 11 Deesanbur : 10000CFA\n",
      "dje_NE : Alzuma 11 Deesanbur : 10000CFA\n",
      "dsb : petk 11 december : 9999,99 €\n",
      "dsb_DE : petk 11 december : 9999,99 €\n",
      "dua : ɗónɛsú 11 eláŋgɛ́ : 10000 FCFA\n",
      "dua_CM : ɗónɛsú 11 eláŋgɛ́ : 10000 FCFA\n",
      "dyo : Arjuma 11 Disambar : 10000 CFA\n",
      "dyo_SN : Arjuma 11 Disambar : 10000 CFA\n",
      "dz : གཟའ་སྤེན་པ་ 11 སྤྱི་ཟླ་བཅུ་གཉིས་པ་ : Nu.9999.99\n",
      "dz_BT : གཟའ་སྤེན་པ་ 11 སྤྱི་ཟླ་བཅུ་གཉིས་པ་ : Nu.9999.99\n",
      "ebu : Njumaa 11 Mweri wa ikũmi na Kaĩrĩ : Ksh9999.99\n",
      "ebu_KE : Njumaa 11 Mweri wa ikũmi na Kaĩrĩ : Ksh9999.99\n",
      "ee : fiɖa 11 dzome : GH₵9999.99\n",
      "ee_GH : fiɖa 11 dzome : GH₵9999.99\n",
      "ee_TG : fiɖa 11 dzome : CFA10000\n",
      "el : Παρασκευή 11 Δεκέμβριος : 9999,99 €\n",
      "el_CY : Παρασκευή 11 Δεκέμβριος : 9999,99 €\n",
      "el_GR : Παρασκευή 11 Δεκέμβριος : 9999,99 €\n",
      "en : Friday 11 December : $9999.99\n",
      "en_001 : Friday 11 December : XDR9999.99\n",
      "en_150 : Friday 11 December : 9999,99 XDR\n",
      "en_AE : Friday 11 December : ?.?.?9999.99\n",
      "en_AG : Friday 11 December : $9999.99\n",
      "en_AI : Friday 11 December : $9999.99\n",
      "en_AS : Friday 11 December : $9999.99\n",
      "en_AT : Friday 11 December : € 9999,99\n",
      "en_AU : Friday 11 December : $9999.99\n",
      "en_BB : Friday 11 December : $9999.99\n",
      "en_BE : Friday 11 December : 9999,99 €\n",
      "en_BI : Friday 11 December : FBu10000\n",
      "en_BM : Friday 11 December : $9999.99\n",
      "en_BS : Friday 11 December : $9999.99\n",
      "en_BW : Friday 11 December : P9999.99\n",
      "en_BZ : Friday 11 December : $9999.99\n",
      "en_CA : Friday 11 December : $9999.99\n",
      "en_CC : Friday 11 December : $9999.99\n",
      "en_CH : Friday 11 December : CHF 9999,99\n",
      "en_CK : Friday 11 December : $9999.99\n",
      "en_CM : Friday 11 December : FCFA10000\n",
      "en_CX : Friday 11 December : $9999.99\n",
      "en_CY : Friday 11 December : €9999.99\n",
      "en_DE : Friday 11 December : 9999,99 €\n",
      "en_DG : Friday 11 December : ¤9999.99\n",
      "en_DK : Friday 11 December : 9999,99 kr.\n",
      "en_DM : Friday 11 December : $9999.99\n",
      "en_ER : Friday 11 December : Nfk9999.99\n",
      "en_FI : Friday 11 December : 9999,99 €\n",
      "en_FJ : Friday 11 December : $9999.99\n",
      "en_FK : Friday 11 December : £9999.99\n",
      "en_FM : Friday 11 December : US$9999.99\n",
      "en_GB : Friday 11 December : £9999.99\n",
      "en_GD : Friday 11 December : $9999.99\n",
      "en_GG : Friday 11 December : £9999.99\n",
      "en_GH : Friday 11 December : GH?9999.99\n",
      "en_GI : Friday 11 December : £9999.99\n",
      "en_GM : Friday 11 December : D9999.99\n",
      "en_GU : Friday 11 December : $9999.99\n",
      "en_GY : Friday 11 December : $9999.99\n",
      "en_HK : Friday 11 December : $9999.99\n",
      "en_IE : Friday 11 December : €9999.99\n",
      "en_IL : Friday 11 December : ₪9999.99\n",
      "en_IM : Friday 11 December : £9999.99\n",
      "en_IN : Friday 11 December : ? 9999.99\n",
      "en_IO : Friday 11 December : US$9999.99\n",
      "en_JE : Friday 11 December : £9999.99\n",
      "en_JM : Friday 11 December : $9999.99\n",
      "en_KE : Friday 11 December : Ksh9999.99\n",
      "en_KI : Friday 11 December : $9999.99\n",
      "en_KN : Friday 11 December : $9999.99\n",
      "en_KY : Friday 11 December : $9999.99\n",
      "en_LC : Friday 11 December : $9999.99\n",
      "en_LR : Friday 11 December : $9999.99\n",
      "en_LS : Friday 11 December : R9999.99\n",
      "en_MG : Friday 11 December : Ar10000\n",
      "en_MH : Friday 11 December : $9999.99\n",
      "en_MO : Friday 11 December : MOP$9999.99\n",
      "en_MP : Friday 11 December : $9999.99\n",
      "en_MS : Friday 11 December : $9999.99\n",
      "en_MT : Friday 11 December : €9999.99\n",
      "en_MU : Friday 11 December : Rs9999.99\n",
      "en_MW : Friday 11 December : MK9999.99\n",
      "en_MY : Friday 11 December : RM9999.99\n",
      "en_NA : Friday 11 December : $9999.99\n",
      "en_NF : Friday 11 December : $9999.99\n",
      "en_NG : Friday 11 December : ?9999.99\n",
      "en_NL : Friday 11 December : € 9999,99\n",
      "en_NR : Friday 11 December : $9999.99\n",
      "en_NU : Friday 11 December : $9999.99\n",
      "en_NZ : Friday 11 December : $9999.99\n",
      "en_PG : Friday 11 December : K9999.99\n",
      "en_PH : Friday 11 December : ?9999.99\n",
      "en_PK : Friday 11 December : Rs9999.99\n",
      "en_PN : Friday 11 December : $9999.99\n",
      "en_PR : Friday 11 December : $9999.99\n",
      "en_PW : Friday 11 December : US$9999.99\n",
      "en_RW : Friday 11 December : RF10000\n",
      "en_SB : Friday 11 December : $9999.99\n",
      "en_SC : Friday 11 December : SR9999.99\n",
      "en_SD : Friday 11 December : SDG9999.99\n",
      "en_SE : Friday 11 December : 9999,99 kr\n",
      "en_SG : Friday 11 December : $9999.99\n",
      "en_SH : Friday 11 December : £9999.99\n",
      "en_SI : Friday 11 December : 9999,99 €\n",
      "en_SL : Friday 11 December : Le10000\n",
      "en_SS : Friday 11 December : £9999.99\n",
      "en_SX : Friday 11 December : NAf.9999.99\n",
      "en_SZ : Friday 11 December : E9999.99\n",
      "en_TC : Friday 11 December : US$9999.99\n",
      "en_TK : Friday 11 December : $9999.99\n",
      "en_TO : Friday 11 December : T$9999.99\n",
      "en_TT : Friday 11 December : $9999.99\n",
      "en_TV : Friday 11 December : $9999.99\n",
      "en_TZ : Friday 11 December : TSh9999.99\n",
      "en_UG : Friday 11 December : USh10000\n",
      "en_UM : Friday 11 December : $9999.99\n",
      "en_US : Friday 11 December : $9999.99\n"
     ]
    },
    {
     "ename": "Error",
     "evalue": "unsupported locale setting",
     "output_type": "error",
     "traceback": [
      "\u001b[1;31m---------------------------------------------------------------------------\u001b[0m",
      "\u001b[1;31mError\u001b[0m                                     Traceback (most recent call last)",
      "\u001b[1;32m<ipython-input-17-6146dc158085>\u001b[0m in \u001b[0;36m<module>\u001b[1;34m\u001b[0m\n\u001b[0;32m      2\u001b[0m \u001b[0md\u001b[0m \u001b[1;33m=\u001b[0m \u001b[0mdate\u001b[0m\u001b[1;33m(\u001b[0m\u001b[1;36m2000\u001b[0m\u001b[1;33m,\u001b[0m \u001b[1;36m2\u001b[0m\u001b[1;33m,\u001b[0m \u001b[1;36m29\u001b[0m\u001b[1;33m)\u001b[0m\u001b[1;33m\u001b[0m\u001b[1;33m\u001b[0m\u001b[0m\n\u001b[0;32m      3\u001b[0m \u001b[1;32mfor\u001b[0m \u001b[0mloc\u001b[0m \u001b[1;32min\u001b[0m \u001b[0mbabel\u001b[0m\u001b[1;33m.\u001b[0m\u001b[0mlocaledata\u001b[0m\u001b[1;33m.\u001b[0m\u001b[0mlocale_identifiers\u001b[0m\u001b[1;33m(\u001b[0m\u001b[1;33m)\u001b[0m\u001b[1;33m:\u001b[0m\u001b[1;33m\u001b[0m\u001b[1;33m\u001b[0m\u001b[0m\n\u001b[1;32m----> 4\u001b[1;33m         \u001b[0mlocale\u001b[0m\u001b[1;33m.\u001b[0m\u001b[0msetlocale\u001b[0m\u001b[1;33m(\u001b[0m\u001b[0mlocale\u001b[0m\u001b[1;33m.\u001b[0m\u001b[0mLC_ALL\u001b[0m\u001b[1;33m,\u001b[0m\u001b[0mloc\u001b[0m\u001b[1;33m)\u001b[0m\u001b[1;33m\u001b[0m\u001b[1;33m\u001b[0m\u001b[0m\n\u001b[0m\u001b[0;32m      5\u001b[0m         \u001b[0mprint\u001b[0m\u001b[1;33m(\u001b[0m\u001b[0mloc\u001b[0m\u001b[1;33m,\u001b[0m \u001b[1;34m':'\u001b[0m\u001b[1;33m,\u001b[0m \u001b[0mdt\u001b[0m\u001b[1;33m.\u001b[0m\u001b[0mstrftime\u001b[0m\u001b[1;33m(\u001b[0m\u001b[1;34m'%A %d %B'\u001b[0m\u001b[1;33m)\u001b[0m\u001b[1;33m,\u001b[0m \u001b[1;34m':'\u001b[0m\u001b[1;33m,\u001b[0m \u001b[0mlocale\u001b[0m\u001b[1;33m.\u001b[0m\u001b[0mcurrency\u001b[0m\u001b[1;33m(\u001b[0m\u001b[1;36m9999.99\u001b[0m\u001b[1;33m)\u001b[0m\u001b[1;33m)\u001b[0m\u001b[1;33m\u001b[0m\u001b[1;33m\u001b[0m\u001b[0m\n",
      "\u001b[1;32m~\\anaconda3\\lib\\locale.py\u001b[0m in \u001b[0;36msetlocale\u001b[1;34m(category, locale)\u001b[0m\n\u001b[0;32m    606\u001b[0m         \u001b[1;31m# convert to string\u001b[0m\u001b[1;33m\u001b[0m\u001b[1;33m\u001b[0m\u001b[1;33m\u001b[0m\u001b[0m\n\u001b[0;32m    607\u001b[0m         \u001b[0mlocale\u001b[0m \u001b[1;33m=\u001b[0m \u001b[0mnormalize\u001b[0m\u001b[1;33m(\u001b[0m\u001b[0m_build_localename\u001b[0m\u001b[1;33m(\u001b[0m\u001b[0mlocale\u001b[0m\u001b[1;33m)\u001b[0m\u001b[1;33m)\u001b[0m\u001b[1;33m\u001b[0m\u001b[1;33m\u001b[0m\u001b[0m\n\u001b[1;32m--> 608\u001b[1;33m     \u001b[1;32mreturn\u001b[0m \u001b[0m_setlocale\u001b[0m\u001b[1;33m(\u001b[0m\u001b[0mcategory\u001b[0m\u001b[1;33m,\u001b[0m \u001b[0mlocale\u001b[0m\u001b[1;33m)\u001b[0m\u001b[1;33m\u001b[0m\u001b[1;33m\u001b[0m\u001b[0m\n\u001b[0m\u001b[0;32m    609\u001b[0m \u001b[1;33m\u001b[0m\u001b[0m\n\u001b[0;32m    610\u001b[0m \u001b[1;32mdef\u001b[0m \u001b[0mresetlocale\u001b[0m\u001b[1;33m(\u001b[0m\u001b[0mcategory\u001b[0m\u001b[1;33m=\u001b[0m\u001b[0mLC_ALL\u001b[0m\u001b[1;33m)\u001b[0m\u001b[1;33m:\u001b[0m\u001b[1;33m\u001b[0m\u001b[1;33m\u001b[0m\u001b[0m\n",
      "\u001b[1;31mError\u001b[0m: unsupported locale setting"
     ]
    }
   ],
   "source": [
    "# jouons avec toutes les locales\n",
    "d = date(2000, 2, 29)\n",
    "for loc in babel.localedata.locale_identifiers():\n",
    "        locale.setlocale(locale.LC_ALL,loc)\n",
    "        print(loc, ':', dt.strftime('%A %d %B'), ':', locale.currency(9999.99))"
   ]
  },
  {
   "cell_type": "code",
   "execution_count": 18,
   "metadata": {},
   "outputs": [
    {
     "data": {
      "text/plain": [
       "['as_IN',\n",
       " 'bn_IN',\n",
       " 'bo_IN',\n",
       " 'brx_IN',\n",
       " 'ccp_IN',\n",
       " 'en_IN',\n",
       " 'gu_IN',\n",
       " 'hi_IN',\n",
       " 'kn_IN',\n",
       " 'kok_IN',\n",
       " 'ks_IN',\n",
       " 'ml_IN',\n",
       " 'mr_IN',\n",
       " 'ne_IN',\n",
       " 'or_IN',\n",
       " 'pa_Guru_IN',\n",
       " 'ta_IN',\n",
       " 'te_IN',\n",
       " 'ur_IN']"
      ]
     },
     "execution_count": 18,
     "metadata": {},
     "output_type": "execute_result"
    }
   ],
   "source": [
    "# locales d'Inde\n",
    "[loc for loc in babel.localedata.locale_identifiers() if loc.endswith('_IN')]"
   ]
  },
  {
   "cell_type": "markdown",
   "metadata": {},
   "source": [
    "## Timezones\n",
    "![title](Images/timezone-map.jpg)\n",
    "source : https://julien.danjou.info/python-and-timezones/"
   ]
  },
  {
   "cell_type": "code",
   "execution_count": 19,
   "metadata": {},
   "outputs": [
    {
     "data": {
      "text/plain": [
       "datetime.datetime(2020, 12, 11, 10, 22, 9, 677283, tzinfo=<DstTzInfo 'America/New_York' EST-1 day, 19:00:00 STD>)"
      ]
     },
     "execution_count": 19,
     "metadata": {},
     "output_type": "execute_result"
    }
   ],
   "source": [
    "# pytz facilite la vie pour obtenir un objet tzinfo à partir d'un texte\n",
    "ny_tz = pytz.timezone('America/New_York')\n",
    "dt = datetime.now(tz=ny_tz)\n",
    "dt"
   ]
  },
  {
   "cell_type": "code",
   "execution_count": 20,
   "metadata": {
    "scrolled": true
   },
   "outputs": [
    {
     "name": "stdout",
     "output_type": "stream",
     "text": [
      "Africa/Abidjan : 2020-12-11 15:22:11.928047+00:00\n",
      "Africa/Accra : 2020-12-11 15:22:11.930028+00:00\n",
      "Africa/Addis_Ababa : 2020-12-11 18:22:11.931017+03:00\n",
      "Africa/Algiers : 2020-12-11 16:22:11.933011+01:00\n",
      "Africa/Asmara : 2020-12-11 18:22:11.933011+03:00\n",
      "Africa/Asmera : 2020-12-11 18:22:11.934009+03:00\n",
      "Africa/Bamako : 2020-12-11 15:22:11.935039+00:00\n",
      "Africa/Bangui : 2020-12-11 16:22:11.936003+01:00\n",
      "Africa/Banjul : 2020-12-11 15:22:11.937035+00:00\n",
      "Africa/Bissau : 2020-12-11 15:22:11.938032+00:00\n",
      "Africa/Blantyre : 2020-12-11 17:22:11.939010+02:00\n",
      "Africa/Brazzaville : 2020-12-11 16:22:11.941002+01:00\n",
      "Africa/Bujumbura : 2020-12-11 17:22:11.942017+02:00\n",
      "Africa/Cairo : 2020-12-11 17:22:11.942984+02:00\n",
      "Africa/Casablanca : 2020-12-11 16:22:11.945019+01:00\n",
      "Africa/Ceuta : 2020-12-11 16:22:11.946011+01:00\n",
      "Africa/Conakry : 2020-12-11 15:22:11.947973+00:00\n",
      "Africa/Dakar : 2020-12-11 15:22:11.948969+00:00\n",
      "Africa/Dar_es_Salaam : 2020-12-11 18:22:11.950964+03:00\n",
      "Africa/Djibouti : 2020-12-11 18:22:11.951960+03:00\n",
      "Africa/Douala : 2020-12-11 16:22:11.952958+01:00\n",
      "Africa/El_Aaiun : 2020-12-11 16:22:11.955463+01:00\n",
      "Africa/Freetown : 2020-12-11 15:22:11.956463+00:00\n",
      "Africa/Gaborone : 2020-12-11 17:22:11.958458+02:00\n",
      "Africa/Harare : 2020-12-11 17:22:11.959455+02:00\n",
      "Africa/Johannesburg : 2020-12-11 17:22:11.960008+02:00\n",
      "Africa/Juba : 2020-12-11 18:22:11.961746+03:00\n",
      "Africa/Kampala : 2020-12-11 18:22:11.962745+03:00\n",
      "Africa/Khartoum : 2020-12-11 17:22:11.963742+02:00\n",
      "Africa/Kigali : 2020-12-11 17:22:11.964739+02:00\n",
      "Africa/Kinshasa : 2020-12-11 16:22:11.965737+01:00\n",
      "Africa/Lagos : 2020-12-11 16:22:11.966735+01:00\n",
      "Africa/Libreville : 2020-12-11 16:22:11.967750+01:00\n",
      "Africa/Lome : 2020-12-11 15:22:11.967750+00:00\n",
      "Africa/Luanda : 2020-12-11 16:22:11.968729+01:00\n",
      "Africa/Lubumbashi : 2020-12-11 17:22:11.969727+02:00\n",
      "Africa/Lusaka : 2020-12-11 17:22:11.971721+02:00\n",
      "Africa/Malabo : 2020-12-11 16:22:11.972718+01:00\n",
      "Africa/Maputo : 2020-12-11 17:22:11.973715+02:00\n",
      "Africa/Maseru : 2020-12-11 17:22:11.973715+02:00\n",
      "Africa/Mbabane : 2020-12-11 17:22:11.974713+02:00\n",
      "Africa/Mogadishu : 2020-12-11 18:22:11.975710+03:00\n",
      "Africa/Monrovia : 2020-12-11 15:22:11.976707+00:00\n",
      "Africa/Nairobi : 2020-12-11 18:22:11.977705+03:00\n",
      "Africa/Ndjamena : 2020-12-11 16:22:11.978702+01:00\n",
      "Africa/Niamey : 2020-12-11 16:22:11.979700+01:00\n",
      "Africa/Nouakchott : 2020-12-11 15:22:11.980697+00:00\n",
      "Africa/Ouagadougou : 2020-12-11 15:22:11.981694+00:00\n",
      "Africa/Porto-Novo : 2020-12-11 16:22:11.982691+01:00\n",
      "Africa/Sao_Tome : 2020-12-11 15:22:11.983688+00:00\n",
      "Africa/Timbuktu : 2020-12-11 15:22:11.984686+00:00\n",
      "Africa/Tripoli : 2020-12-11 17:22:11.986682+02:00\n",
      "Africa/Tunis : 2020-12-11 16:22:11.987626+01:00\n",
      "Africa/Windhoek : 2020-12-11 17:22:11.988904+02:00\n",
      "America/Adak : 2020-12-11 05:22:11.990286-10:00\n",
      "America/Anchorage : 2020-12-11 06:22:11.991686-09:00\n",
      "America/Anguilla : 2020-12-11 11:22:11.992685-04:00\n",
      "America/Antigua : 2020-12-11 11:22:11.993682-04:00\n",
      "America/Araguaina : 2020-12-11 12:22:11.994970-03:00\n",
      "America/Argentina/Buenos_Aires : 2020-12-11 12:22:11.996049-03:00\n",
      "America/Argentina/Catamarca : 2020-12-11 12:22:11.997048-03:00\n",
      "America/Argentina/ComodRivadavia : 2020-12-11 12:22:11.998401-03:00\n",
      "America/Argentina/Cordoba : 2020-12-11 12:22:11.999534-03:00\n",
      "America/Argentina/Jujuy : 2020-12-11 12:22:12.000673-03:00\n",
      "America/Argentina/La_Rioja : 2020-12-11 12:22:12.001823-03:00\n",
      "America/Argentina/Mendoza : 2020-12-11 12:22:12.002821-03:00\n",
      "America/Argentina/Rio_Gallegos : 2020-12-11 12:22:12.004333-03:00\n",
      "America/Argentina/Salta : 2020-12-11 12:22:12.005537-03:00\n",
      "America/Argentina/San_Juan : 2020-12-11 12:22:12.006711-03:00\n",
      "America/Argentina/San_Luis : 2020-12-11 12:22:12.007921-03:00\n",
      "America/Argentina/Tucuman : 2020-12-11 12:22:12.009123-03:00\n",
      "America/Argentina/Ushuaia : 2020-12-11 12:22:12.010304-03:00\n",
      "America/Aruba : 2020-12-11 11:22:12.011303-04:00\n",
      "America/Asuncion : 2020-12-11 12:22:12.012448-03:00\n",
      "America/Atikokan : 2020-12-11 10:22:12.013447-05:00\n",
      "America/Atka : 2020-12-11 05:22:12.014862-10:00\n",
      "America/Bahia : 2020-12-11 12:22:12.016174-03:00\n",
      "America/Bahia_Banderas : 2020-12-11 09:22:12.017389-06:00\n",
      "America/Barbados : 2020-12-11 11:22:12.018388-04:00\n",
      "America/Belem : 2020-12-11 12:22:12.019385-03:00\n",
      "America/Belize : 2020-12-11 09:22:12.020795-06:00\n",
      "America/Blanc-Sablon : 2020-12-11 11:22:12.021794-04:00\n",
      "America/Boa_Vista : 2020-12-11 11:22:12.022994-04:00\n",
      "America/Bogota : 2020-12-11 10:22:12.023993-05:00\n",
      "America/Boise : 2020-12-11 08:22:12.024990-07:00\n",
      "America/Buenos_Aires : 2020-12-11 12:22:12.026563-03:00\n",
      "America/Cambridge_Bay : 2020-12-11 08:22:12.027753-07:00\n",
      "America/Campo_Grande : 2020-12-11 11:22:12.029031-04:00\n",
      "America/Cancun : 2020-12-11 10:22:12.030304-05:00\n",
      "America/Caracas : 2020-12-11 11:22:12.031304-04:00\n",
      "America/Catamarca : 2020-12-11 12:22:12.032446-03:00\n",
      "America/Cayenne : 2020-12-11 12:22:12.033446-03:00\n",
      "America/Cayman : 2020-12-11 10:22:12.034442-05:00\n",
      "America/Chicago : 2020-12-11 09:22:12.035440-06:00\n",
      "America/Chihuahua : 2020-12-11 08:22:12.037435-07:00\n",
      "America/Coral_Harbour : 2020-12-11 10:22:12.038432-05:00\n",
      "America/Cordoba : 2020-12-11 12:22:12.039500-03:00\n",
      "America/Costa_Rica : 2020-12-11 09:22:12.040499-06:00\n",
      "America/Creston : 2020-12-11 08:22:12.041496-07:00\n",
      "America/Cuiaba : 2020-12-11 11:22:12.042493-04:00\n",
      "America/Curacao : 2020-12-11 11:22:12.043491-04:00\n",
      "America/Danmarkshavn : 2020-12-11 15:22:12.044487+00:00\n",
      "America/Dawson : 2020-12-11 08:22:12.046482-07:00\n",
      "America/Dawson_Creek : 2020-12-11 08:22:12.047539-07:00\n",
      "America/Denver : 2020-12-11 08:22:12.048794-07:00\n",
      "America/Detroit : 2020-12-11 10:22:12.049793-05:00\n",
      "America/Dominica : 2020-12-11 11:22:12.050790-04:00\n",
      "America/Edmonton : 2020-12-11 08:22:12.052421-07:00\n",
      "America/Eirunepe : 2020-12-11 10:22:12.053746-05:00\n",
      "America/El_Salvador : 2020-12-11 09:22:12.054746-06:00\n",
      "America/Ensenada : 2020-12-11 07:22:12.055879-08:00\n",
      "America/Fort_Nelson : 2020-12-11 08:22:12.056878-07:00\n",
      "America/Fort_Wayne : 2020-12-11 10:22:12.058873-05:00\n",
      "America/Fortaleza : 2020-12-11 12:22:12.059930-03:00\n",
      "America/Glace_Bay : 2020-12-11 11:22:12.061076-04:00\n",
      "America/Godthab : 2020-12-11 12:22:12.062532-03:00\n",
      "America/Goose_Bay : 2020-12-11 11:22:12.063809-04:00\n",
      "America/Grand_Turk : 2020-12-11 10:22:12.065365-05:00\n",
      "America/Grenada : 2020-12-11 11:22:12.066364-04:00\n",
      "America/Guadeloupe : 2020-12-11 11:22:12.067362-04:00\n",
      "America/Guatemala : 2020-12-11 09:22:12.068359-06:00\n",
      "America/Guayaquil : 2020-12-11 10:22:12.069356-05:00\n",
      "America/Guyana : 2020-12-11 11:22:12.070353-04:00\n",
      "America/Halifax : 2020-12-11 11:22:12.071421-04:00\n",
      "America/Havana : 2020-12-11 10:22:12.072887-05:00\n",
      "America/Hermosillo : 2020-12-11 08:22:12.073886-07:00\n",
      "America/Indiana/Indianapolis : 2020-12-11 10:22:12.074883-05:00\n",
      "America/Indiana/Knox : 2020-12-11 09:22:12.076878-06:00\n",
      "America/Indiana/Marengo : 2020-12-11 10:22:12.078052-05:00\n",
      "America/Indiana/Petersburg : 2020-12-11 10:22:12.079360-05:00\n",
      "America/Indiana/Tell_City : 2020-12-11 09:22:12.080651-06:00\n",
      "America/Indiana/Vevay : 2020-12-11 10:22:12.081907-05:00\n",
      "America/Indiana/Vincennes : 2020-12-11 10:22:12.082906-05:00\n",
      "America/Indiana/Winamac : 2020-12-11 10:22:12.084386-05:00\n",
      "America/Indianapolis : 2020-12-11 10:22:12.085639-05:00\n",
      "America/Inuvik : 2020-12-11 08:22:12.086879-07:00\n",
      "America/Iqaluit : 2020-12-11 10:22:12.087878-05:00\n",
      "America/Jamaica : 2020-12-11 10:22:12.088875-05:00\n",
      "America/Jujuy : 2020-12-11 12:22:12.090435-03:00\n",
      "America/Juneau : 2020-12-11 06:22:12.091587-09:00\n",
      "America/Kentucky/Louisville : 2020-12-11 10:22:12.092921-05:00\n",
      "America/Kentucky/Monticello : 2020-12-11 10:22:12.094314-05:00\n",
      "America/Knox_IN : 2020-12-11 09:22:12.095645-06:00\n",
      "America/Kralendijk : 2020-12-11 11:22:12.096644-04:00\n",
      "America/La_Paz : 2020-12-11 11:22:12.097642-04:00\n",
      "America/Lima : 2020-12-11 10:22:12.098639-05:00\n",
      "America/Los_Angeles : 2020-12-11 07:22:12.099978-08:00\n",
      "America/Louisville : 2020-12-11 10:22:12.100977-05:00\n",
      "America/Lower_Princes : 2020-12-11 11:22:12.101974-04:00\n",
      "America/Maceio : 2020-12-11 12:22:12.103710-03:00\n",
      "America/Managua : 2020-12-11 09:22:12.104709-06:00\n",
      "America/Manaus : 2020-12-11 11:22:12.105707-04:00\n",
      "America/Marigot : 2020-12-11 11:22:12.106704-04:00\n",
      "America/Martinique : 2020-12-11 11:22:12.107775-04:00\n",
      "America/Matamoros : 2020-12-11 09:22:12.108698-06:00\n",
      "America/Mazatlan : 2020-12-11 08:22:12.110693-07:00\n",
      "America/Mendoza : 2020-12-11 12:22:12.111691-03:00\n",
      "America/Menominee : 2020-12-11 09:22:12.112688-06:00\n",
      "America/Merida : 2020-12-11 09:22:12.114684-06:00\n",
      "America/Metlakatla : 2020-12-11 06:22:12.115680-09:00\n",
      "America/Mexico_City : 2020-12-11 09:22:12.117676-06:00\n",
      "America/Miquelon : 2020-12-11 12:22:12.119669-03:00\n",
      "America/Moncton : 2020-12-11 11:22:12.120800-04:00\n",
      "America/Monterrey : 2020-12-11 09:22:12.122327-06:00\n",
      "America/Montevideo : 2020-12-11 12:22:12.123635-03:00\n",
      "America/Montreal : 2020-12-11 10:22:12.124669-05:00\n",
      "America/Montserrat : 2020-12-11 11:22:12.126635-04:00\n",
      "America/Nassau : 2020-12-11 10:22:12.127668-05:00\n",
      "America/New_York : 2020-12-11 10:22:12.128659-05:00\n",
      "America/Nipigon : 2020-12-11 10:22:12.129656-05:00\n",
      "America/Nome : 2020-12-11 06:22:12.130653-09:00\n",
      "America/Noronha : 2020-12-11 13:22:12.132614-02:00\n",
      "America/North_Dakota/Beulah : 2020-12-11 09:22:12.134644-06:00\n",
      "America/North_Dakota/Center : 2020-12-11 09:22:12.135642-06:00\n",
      "America/North_Dakota/New_Salem : 2020-12-11 09:22:12.137687-06:00\n",
      "America/Nuuk : 2020-12-11 12:22:12.139099-03:00\n",
      "America/Ojinaga : 2020-12-11 08:22:12.140393-07:00\n",
      "America/Panama : 2020-12-11 10:22:12.141393-05:00\n",
      "America/Pangnirtung : 2020-12-11 10:22:12.142390-05:00\n",
      "America/Paramaribo : 2020-12-11 12:22:12.143388-03:00\n",
      "America/Phoenix : 2020-12-11 08:22:12.145382-07:00\n",
      "America/Port-au-Prince : 2020-12-11 10:22:12.146390-05:00\n",
      "America/Port_of_Spain : 2020-12-11 11:22:12.147390-04:00\n",
      "America/Porto_Acre : 2020-12-11 10:22:12.148386-05:00\n",
      "America/Porto_Velho : 2020-12-11 11:22:12.149671-04:00\n",
      "America/Puerto_Rico : 2020-12-11 11:22:12.150670-04:00\n",
      "America/Punta_Arenas : 2020-12-11 12:22:12.151668-03:00\n",
      "America/Rainy_River : 2020-12-11 09:22:12.153069-06:00\n",
      "America/Rankin_Inlet : 2020-12-11 09:22:12.154069-06:00\n",
      "America/Recife : 2020-12-11 12:22:12.155601-03:00\n",
      "America/Regina : 2020-12-11 09:22:12.156708-06:00\n",
      "America/Resolute : 2020-12-11 09:22:12.157708-06:00\n",
      "America/Rio_Branco : 2020-12-11 10:22:12.159435-05:00\n",
      "America/Rosario : 2020-12-11 12:22:12.160606-03:00\n",
      "America/Santa_Isabel : 2020-12-11 07:22:12.161760-08:00\n",
      "America/Santarem : 2020-12-11 12:22:12.162760-03:00\n",
      "America/Santiago : 2020-12-11 12:22:12.164006-03:00\n",
      "America/Santo_Domingo : 2020-12-11 11:22:12.165005-04:00\n",
      "America/Sao_Paulo : 2020-12-11 12:22:12.166356-03:00\n",
      "America/Scoresbysund : 2020-12-11 14:22:12.167590-01:00\n",
      "America/Shiprock : 2020-12-11 08:22:12.168589-07:00\n",
      "America/Sitka : 2020-12-11 06:22:12.169586-09:00\n",
      "America/St_Barthelemy : 2020-12-11 11:22:12.170583-04:00\n",
      "America/St_Johns : 2020-12-11 11:52:12.172331-03:30\n",
      "America/St_Kitts : 2020-12-11 11:22:12.173330-04:00\n",
      "America/St_Lucia : 2020-12-11 11:22:12.174328-04:00\n",
      "America/St_Thomas : 2020-12-11 11:22:12.175325-04:00\n",
      "America/St_Vincent : 2020-12-11 11:22:12.176322-04:00\n",
      "America/Swift_Current : 2020-12-11 09:22:12.177758-06:00\n",
      "America/Tegucigalpa : 2020-12-11 09:22:12.178756-06:00\n",
      "America/Thule : 2020-12-11 11:22:12.179810-04:00\n",
      "America/Thunder_Bay : 2020-12-11 10:22:12.180963-05:00\n",
      "America/Tijuana : 2020-12-11 07:22:12.182320-08:00\n",
      "America/Toronto : 2020-12-11 10:22:12.183589-05:00\n",
      "America/Tortola : 2020-12-11 11:22:12.184587-04:00\n",
      "America/Vancouver : 2020-12-11 07:22:12.185925-08:00\n",
      "America/Virgin : 2020-12-11 11:22:12.186924-04:00\n",
      "America/Whitehorse : 2020-12-11 08:22:12.188165-07:00\n",
      "America/Winnipeg : 2020-12-11 09:22:12.189455-06:00\n",
      "America/Yakutat : 2020-12-11 06:22:12.190819-09:00\n",
      "America/Yellowknife : 2020-12-11 08:22:12.191817-07:00\n",
      "Antarctica/Casey : 2020-12-11 23:22:12.192816+08:00\n",
      "Antarctica/Davis : 2020-12-11 22:22:12.193813+07:00\n",
      "Antarctica/DumontDUrville : 2020-12-12 01:22:12.194810+10:00\n",
      "Antarctica/Macquarie : 2020-12-12 02:22:12.196466+11:00\n",
      "Antarctica/Mawson : 2020-12-11 20:22:12.197465+05:00\n",
      "Antarctica/McMurdo : 2020-12-12 04:22:12.198482+13:00\n",
      "Antarctica/Palmer : 2020-12-11 12:22:12.199482-03:00\n",
      "Antarctica/Rothera : 2020-12-11 12:22:12.200479-03:00\n",
      "Antarctica/South_Pole : 2020-12-12 04:22:12.201476+13:00\n",
      "Antarctica/Syowa : 2020-12-11 18:22:12.202474+03:00\n",
      "Antarctica/Troll : 2020-12-11 15:22:12.204468+00:00\n",
      "Antarctica/Vostok : 2020-12-11 21:22:12.204468+06:00\n",
      "Arctic/Longyearbyen : 2020-12-11 16:22:12.206463+01:00\n",
      "Asia/Aden : 2020-12-11 18:22:12.207460+03:00\n",
      "Asia/Almaty : 2020-12-11 21:22:12.208715+06:00\n",
      "Asia/Amman : 2020-12-11 17:22:12.209937+02:00\n",
      "Asia/Anadyr : 2020-12-12 03:22:12.211311+12:00\n",
      "Asia/Aqtau : 2020-12-11 20:22:12.212580+05:00\n",
      "Asia/Aqtobe : 2020-12-11 20:22:12.213803+05:00\n",
      "Asia/Ashgabat : 2020-12-11 20:22:12.214986+05:00\n",
      "Asia/Ashkhabad : 2020-12-11 20:22:12.216104+05:00\n",
      "Asia/Atyrau : 2020-12-11 20:22:12.217230+05:00\n",
      "Asia/Baghdad : 2020-12-11 18:22:12.218394+03:00\n",
      "Asia/Bahrain : 2020-12-11 18:22:12.219393+03:00\n",
      "Asia/Baku : 2020-12-11 19:22:12.220547+04:00\n",
      "Asia/Bangkok : 2020-12-11 22:22:12.221547+07:00\n",
      "Asia/Barnaul : 2020-12-11 22:22:12.222704+07:00\n",
      "Asia/Beirut : 2020-12-11 17:22:12.223704+02:00\n",
      "Asia/Bishkek : 2020-12-11 21:22:12.224700+06:00\n",
      "Asia/Brunei : 2020-12-11 23:22:12.225698+08:00\n",
      "Asia/Calcutta : 2020-12-11 20:52:12.226696+05:30\n",
      "Asia/Chita : 2020-12-12 00:22:12.228690+09:00\n",
      "Asia/Choibalsan : 2020-12-11 23:22:12.230357+08:00\n",
      "Asia/Chongqing : 2020-12-11 23:22:12.231357+08:00\n",
      "Asia/Chungking : 2020-12-11 23:22:12.232354+08:00\n",
      "Asia/Colombo : 2020-12-11 20:52:12.233351+05:30\n",
      "Asia/Dacca : 2020-12-11 21:22:12.234349+06:00\n",
      "Asia/Damascus : 2020-12-11 17:22:12.235346+02:00\n",
      "Asia/Dhaka : 2020-12-11 21:22:12.236344+06:00\n",
      "Asia/Dili : 2020-12-12 00:22:12.237340+09:00\n",
      "Asia/Dubai : 2020-12-11 19:22:12.238338+04:00\n",
      "Asia/Dushanbe : 2020-12-11 20:22:12.239335+05:00\n",
      "Asia/Famagusta : 2020-12-11 17:22:12.241064+02:00\n",
      "Asia/Gaza : 2020-12-11 17:22:12.242332+02:00\n",
      "Asia/Harbin : 2020-12-11 23:22:12.243330+08:00\n",
      "Asia/Hebron : 2020-12-11 17:22:12.244694+02:00\n",
      "Asia/Ho_Chi_Minh : 2020-12-11 22:22:12.245693+07:00\n",
      "Asia/Hong_Kong : 2020-12-11 23:22:12.246997+08:00\n",
      "Asia/Hovd : 2020-12-11 22:22:12.248262+07:00\n",
      "Asia/Irkutsk : 2020-12-11 23:22:12.249438+08:00\n",
      "Asia/Istanbul : 2020-12-11 18:22:12.250690+03:00\n",
      "Asia/Jakarta : 2020-12-11 22:22:12.251689+07:00\n",
      "Asia/Jayapura : 2020-12-12 00:22:12.252686+09:00\n",
      "Asia/Jerusalem : 2020-12-11 17:22:12.253684+02:00\n",
      "Asia/Kabul : 2020-12-11 19:52:12.254682+04:30\n",
      "Asia/Kamchatka : 2020-12-12 03:22:12.256374+12:00\n",
      "Asia/Karachi : 2020-12-11 20:22:12.257373+05:00\n",
      "Asia/Kashgar : 2020-12-11 21:22:12.258371+06:00\n",
      "Asia/Kathmandu : 2020-12-11 21:07:12.259367+05:45\n",
      "Asia/Katmandu : 2020-12-11 21:07:12.260364+05:45\n",
      "Asia/Khandyga : 2020-12-12 00:22:12.261396+09:00\n",
      "Asia/Kolkata : 2020-12-11 20:52:12.262429+05:30\n",
      "Asia/Krasnoyarsk : 2020-12-11 22:22:12.263578+07:00\n",
      "Asia/Kuala_Lumpur : 2020-12-11 23:22:12.264577+08:00\n",
      "Asia/Kuching : 2020-12-11 23:22:12.265575+08:00\n",
      "Asia/Kuwait : 2020-12-11 18:22:12.266571+03:00\n",
      "Asia/Macao : 2020-12-11 23:22:12.267569+08:00\n",
      "Asia/Macau : 2020-12-11 23:22:12.269564+08:00\n",
      "Asia/Magadan : 2020-12-12 02:22:12.270561+11:00\n",
      "Asia/Makassar : 2020-12-11 23:22:12.271559+08:00\n",
      "Asia/Manila : 2020-12-11 23:22:12.272556+08:00\n",
      "Asia/Muscat : 2020-12-11 19:22:12.273552+04:00\n",
      "Asia/Nicosia : 2020-12-11 17:22:12.274551+02:00\n",
      "Asia/Novokuznetsk : 2020-12-11 22:22:12.275548+07:00\n",
      "Asia/Novosibirsk : 2020-12-11 22:22:12.277542+07:00\n",
      "Asia/Omsk : 2020-12-11 21:22:12.278618+06:00\n",
      "Asia/Oral : 2020-12-11 20:22:12.279885+05:00\n",
      "Asia/Phnom_Penh : 2020-12-11 22:22:12.280885+07:00\n",
      "Asia/Pontianak : 2020-12-11 22:22:12.281881+07:00\n",
      "Asia/Pyongyang : 2020-12-12 00:22:12.282878+09:00\n",
      "Asia/Qatar : 2020-12-11 18:22:12.283877+03:00\n",
      "Asia/Qostanay : 2020-12-11 21:22:12.284874+06:00\n",
      "Asia/Qyzylorda : 2020-12-11 20:22:12.286232+05:00\n",
      "Asia/Rangoon : 2020-12-11 21:52:12.287232+06:30\n",
      "Asia/Riyadh : 2020-12-11 18:22:12.288228+03:00\n",
      "Asia/Saigon : 2020-12-11 22:22:12.289226+07:00\n",
      "Asia/Sakhalin : 2020-12-12 02:22:12.290260+11:00\n",
      "Asia/Samarkand : 2020-12-11 20:22:12.291464+05:00\n"
     ]
    },
    {
     "name": "stdout",
     "output_type": "stream",
     "text": [
      "Asia/Seoul : 2020-12-12 00:22:12.292463+09:00\n",
      "Asia/Shanghai : 2020-12-11 23:22:12.293461+08:00\n",
      "Asia/Singapore : 2020-12-11 23:22:12.294458+08:00\n",
      "Asia/Srednekolymsk : 2020-12-12 02:22:12.295455+11:00\n",
      "Asia/Taipei : 2020-12-11 23:22:12.296453+08:00\n",
      "Asia/Tashkent : 2020-12-11 20:22:12.297450+05:00\n",
      "Asia/Tbilisi : 2020-12-11 19:22:12.299445+04:00\n",
      "Asia/Tehran : 2020-12-11 18:52:12.300441+03:30\n",
      "Asia/Tel_Aviv : 2020-12-11 17:22:12.301439+02:00\n",
      "Asia/Thimbu : 2020-12-11 21:22:12.302436+06:00\n",
      "Asia/Thimphu : 2020-12-11 21:22:12.303433+06:00\n",
      "Asia/Tokyo : 2020-12-12 00:22:12.304433+09:00\n",
      "Asia/Tomsk : 2020-12-11 22:22:12.306426+07:00\n",
      "Asia/Ujung_Pandang : 2020-12-11 23:22:12.307423+08:00\n",
      "Asia/Ulaanbaatar : 2020-12-11 23:22:12.308421+08:00\n",
      "Asia/Ulan_Bator : 2020-12-11 23:22:12.310406+08:00\n",
      "Asia/Urumqi : 2020-12-11 21:22:12.311406+06:00\n",
      "Asia/Ust-Nera : 2020-12-12 01:22:12.312403+10:00\n",
      "Asia/Vientiane : 2020-12-11 22:22:12.313400+07:00\n",
      "Asia/Vladivostok : 2020-12-12 01:22:12.315193+10:00\n",
      "Asia/Yakutsk : 2020-12-12 00:22:12.316371+09:00\n",
      "Asia/Yangon : 2020-12-11 21:52:12.317371+06:30\n",
      "Asia/Yekaterinburg : 2020-12-11 20:22:12.318459+05:00\n",
      "Asia/Yerevan : 2020-12-11 19:22:12.319646+04:00\n",
      "Atlantic/Azores : 2020-12-11 14:22:12.320800-01:00\n",
      "Atlantic/Bermuda : 2020-12-11 11:22:12.321799-04:00\n",
      "Atlantic/Canary : 2020-12-11 15:22:12.323794+00:00\n",
      "Atlantic/Cape_Verde : 2020-12-11 14:22:12.324791-01:00\n",
      "Atlantic/Faeroe : 2020-12-11 15:22:12.325788+00:00\n",
      "Atlantic/Faroe : 2020-12-11 15:22:12.326785+00:00\n",
      "Atlantic/Jan_Mayen : 2020-12-11 16:22:12.328323+01:00\n",
      "Atlantic/Madeira : 2020-12-11 15:22:12.329322+00:00\n",
      "Atlantic/Reykjavik : 2020-12-11 15:22:12.331115+00:00\n",
      "Atlantic/South_Georgia : 2020-12-11 13:22:12.332115-02:00\n",
      "Atlantic/St_Helena : 2020-12-11 15:22:12.333112+00:00\n",
      "Atlantic/Stanley : 2020-12-11 12:22:12.334204-03:00\n",
      "Australia/ACT : 2020-12-12 02:22:12.335204+11:00\n",
      "Australia/Adelaide : 2020-12-12 01:52:12.337198+10:30\n",
      "Australia/Brisbane : 2020-12-12 01:22:12.338195+10:00\n",
      "Australia/Broken_Hill : 2020-12-12 01:52:12.339202+10:30\n",
      "Australia/Canberra : 2020-12-12 02:22:12.340507+11:00\n",
      "Australia/Currie : 2020-12-12 02:22:12.341781+11:00\n",
      "Australia/Darwin : 2020-12-12 00:52:12.342780+09:30\n",
      "Australia/Eucla : 2020-12-12 00:07:12.343777+08:45\n",
      "Australia/Hobart : 2020-12-12 02:22:12.344775+11:00\n",
      "Australia/LHI : 2020-12-12 02:22:12.345772+11:00\n",
      "Australia/Lindeman : 2020-12-12 01:22:12.346770+10:00\n",
      "Australia/Lord_Howe : 2020-12-12 02:22:12.348618+11:00\n",
      "Australia/Melbourne : 2020-12-12 02:22:12.349858+11:00\n",
      "Australia/NSW : 2020-12-12 02:22:12.351132+11:00\n",
      "Australia/North : 2020-12-12 00:52:12.352132+09:30\n",
      "Australia/Perth : 2020-12-11 23:22:12.353129+08:00\n",
      "Australia/Queensland : 2020-12-12 01:22:12.354126+10:00\n",
      "Australia/South : 2020-12-12 01:52:12.355356+10:30\n",
      "Australia/Sydney : 2020-12-12 02:22:12.356625+11:00\n",
      "Australia/Tasmania : 2020-12-12 02:22:12.357898+11:00\n",
      "Australia/Victoria : 2020-12-12 02:22:12.359168+11:00\n",
      "Australia/West : 2020-12-11 23:22:12.360167+08:00\n",
      "Australia/Yancowinna : 2020-12-12 01:52:12.361165+10:30\n",
      "Brazil/Acre : 2020-12-11 10:22:12.362161-05:00\n",
      "Brazil/DeNoronha : 2020-12-11 13:22:12.363602-02:00\n",
      "Brazil/East : 2020-12-11 12:22:12.364683-03:00\n",
      "Brazil/West : 2020-12-11 11:22:12.365683-04:00\n",
      "CET : 2020-12-11 16:22:12.366855+01:00\n",
      "CST6CDT : 2020-12-11 09:22:12.367855-06:00\n",
      "Canada/Atlantic : 2020-12-11 11:22:12.368852-04:00\n",
      "Canada/Central : 2020-12-11 09:22:12.370846-06:00\n",
      "Canada/Eastern : 2020-12-11 10:22:12.372143-05:00\n",
      "Canada/Mountain : 2020-12-11 08:22:12.373554-07:00\n",
      "Canada/Newfoundland : 2020-12-11 11:52:12.374554-03:30\n",
      "Canada/Pacific : 2020-12-11 07:22:12.376548-08:00\n",
      "Canada/Saskatchewan : 2020-12-11 09:22:12.377703-06:00\n",
      "Canada/Yukon : 2020-12-11 08:22:12.378849-07:00\n",
      "Chile/Continental : 2020-12-11 12:22:12.380028-03:00\n",
      "Chile/EasterIsland : 2020-12-11 10:22:12.381311-05:00\n",
      "Cuba : 2020-12-11 10:22:12.382597-05:00\n",
      "EET : 2020-12-11 17:22:12.383862+02:00\n",
      "EST : 2020-12-11 10:22:12.384861-05:00\n",
      "EST5EDT : 2020-12-11 10:22:12.386018-05:00\n",
      "Egypt : 2020-12-11 17:22:12.387292+02:00\n",
      "Eire : 2020-12-11 15:22:12.389525+00:00\n",
      "Etc/GMT : 2020-12-11 15:22:12.390523+00:00\n",
      "Etc/GMT+0 : 2020-12-11 15:22:12.391520+00:00\n",
      "Etc/GMT+1 : 2020-12-11 14:22:12.391520-01:00\n",
      "Etc/GMT+10 : 2020-12-11 05:22:12.392517-10:00\n",
      "Etc/GMT+11 : 2020-12-11 04:22:12.393515-11:00\n",
      "Etc/GMT+12 : 2020-12-11 03:22:12.394512-12:00\n",
      "Etc/GMT+2 : 2020-12-11 13:22:12.395509-02:00\n",
      "Etc/GMT+3 : 2020-12-11 12:22:12.396507-03:00\n",
      "Etc/GMT+4 : 2020-12-11 11:22:12.397504-04:00\n",
      "Etc/GMT+5 : 2020-12-11 10:22:12.398502-05:00\n",
      "Etc/GMT+6 : 2020-12-11 09:22:12.399498-06:00\n",
      "Etc/GMT+7 : 2020-12-11 08:22:12.399498-07:00\n",
      "Etc/GMT+8 : 2020-12-11 07:22:12.400495-08:00\n",
      "Etc/GMT+9 : 2020-12-11 06:22:12.401494-09:00\n",
      "Etc/GMT-0 : 2020-12-11 15:22:12.402491+00:00\n",
      "Etc/GMT-1 : 2020-12-11 16:22:12.403488+01:00\n",
      "Etc/GMT-10 : 2020-12-12 01:22:12.404485+10:00\n",
      "Etc/GMT-11 : 2020-12-12 02:22:12.405482+11:00\n",
      "Etc/GMT-12 : 2020-12-12 03:22:12.406480+12:00\n",
      "Etc/GMT-13 : 2020-12-12 04:22:12.407477+13:00\n",
      "Etc/GMT-14 : 2020-12-12 05:22:12.408474+14:00\n",
      "Etc/GMT-2 : 2020-12-11 17:22:12.408474+02:00\n",
      "Etc/GMT-3 : 2020-12-11 18:22:12.409472+03:00\n",
      "Etc/GMT-4 : 2020-12-11 19:22:12.410469+04:00\n",
      "Etc/GMT-5 : 2020-12-11 20:22:12.411467+05:00\n",
      "Etc/GMT-6 : 2020-12-11 21:22:12.412465+06:00\n",
      "Etc/GMT-7 : 2020-12-11 22:22:12.413461+07:00\n",
      "Etc/GMT-8 : 2020-12-11 23:22:12.414458+08:00\n",
      "Etc/GMT-9 : 2020-12-12 00:22:12.415455+09:00\n",
      "Etc/GMT0 : 2020-12-11 15:22:12.416454+00:00\n",
      "Etc/Greenwich : 2020-12-11 15:22:12.417450+00:00\n",
      "Etc/UCT : 2020-12-11 15:22:12.417450+00:00\n",
      "Etc/UTC : 2020-12-11 15:22:12.418448+00:00\n",
      "Etc/Universal : 2020-12-11 15:22:12.419445+00:00\n",
      "Etc/Zulu : 2020-12-11 15:22:12.420443+00:00\n",
      "Europe/Amsterdam : 2020-12-11 16:22:12.422437+01:00\n",
      "Europe/Andorra : 2020-12-11 16:22:12.423434+01:00\n",
      "Europe/Astrakhan : 2020-12-11 19:22:12.424432+04:00\n",
      "Europe/Athens : 2020-12-11 17:22:12.426427+02:00\n",
      "Europe/Belfast : 2020-12-11 15:22:12.428421+00:00\n",
      "Europe/Belgrade : 2020-12-11 16:22:12.429418+01:00\n",
      "Europe/Berlin : 2020-12-11 16:22:12.431413+01:00\n",
      "Europe/Bratislava : 2020-12-11 16:22:12.432411+01:00\n",
      "Europe/Brussels : 2020-12-11 16:22:12.433408+01:00\n",
      "Europe/Bucharest : 2020-12-11 17:22:12.435402+02:00\n",
      "Europe/Budapest : 2020-12-11 16:22:12.436400+01:00\n",
      "Europe/Busingen : 2020-12-11 16:22:12.437397+01:00\n",
      "Europe/Chisinau : 2020-12-11 17:22:12.439392+02:00\n",
      "Europe/Copenhagen : 2020-12-11 16:22:12.440788+01:00\n",
      "Europe/Dublin : 2020-12-11 15:22:12.443051+00:00\n",
      "Europe/Gibraltar : 2020-12-11 16:22:12.444152+01:00\n",
      "Europe/Guernsey : 2020-12-11 15:22:12.445541+00:00\n",
      "Europe/Helsinki : 2020-12-11 17:22:12.446951+02:00\n",
      "Europe/Isle_of_Man : 2020-12-11 15:22:12.447951+00:00\n",
      "Europe/Istanbul : 2020-12-11 18:22:12.449606+03:00\n",
      "Europe/Jersey : 2020-12-11 15:22:12.450838+00:00\n",
      "Europe/Kaliningrad : 2020-12-11 17:22:12.452239+02:00\n",
      "Europe/Kiev : 2020-12-11 17:22:12.453435+02:00\n",
      "Europe/Kirov : 2020-12-11 18:22:12.454701+03:00\n",
      "Europe/Lisbon : 2020-12-11 15:22:12.455886+00:00\n",
      "Europe/Ljubljana : 2020-12-11 16:22:12.457332+01:00\n",
      "Europe/London : 2020-12-11 15:22:12.458564+00:00\n",
      "Europe/Luxembourg : 2020-12-11 16:22:12.459563+01:00\n",
      "Europe/Madrid : 2020-12-11 16:22:12.461557+01:00\n",
      "Europe/Malta : 2020-12-11 16:22:12.462719+01:00\n",
      "Europe/Mariehamn : 2020-12-11 17:22:12.464069+02:00\n",
      "Europe/Minsk : 2020-12-11 18:22:12.465290+03:00\n",
      "Europe/Monaco : 2020-12-11 16:22:12.466560+01:00\n",
      "Europe/Moscow : 2020-12-11 18:22:12.467558+03:00\n",
      "Europe/Nicosia : 2020-12-11 17:22:12.469156+02:00\n",
      "Europe/Oslo : 2020-12-11 16:22:12.470399+01:00\n",
      "Europe/Paris : 2020-12-11 16:22:12.471648+01:00\n",
      "Europe/Podgorica : 2020-12-11 16:22:12.473047+01:00\n",
      "Europe/Prague : 2020-12-11 16:22:12.474274+01:00\n",
      "Europe/Riga : 2020-12-11 17:22:12.475274+02:00\n",
      "Europe/Rome : 2020-12-11 16:22:12.476270+01:00\n",
      "Europe/Samara : 2020-12-11 19:22:12.478265+04:00\n",
      "Europe/San_Marino : 2020-12-11 16:22:12.479350+01:00\n",
      "Europe/Sarajevo : 2020-12-11 16:22:12.480350+01:00\n",
      "Europe/Saratov : 2020-12-11 19:22:12.482344+04:00\n",
      "Europe/Simferopol : 2020-12-11 18:22:12.483342+03:00\n",
      "Europe/Skopje : 2020-12-11 16:22:12.484339+01:00\n",
      "Europe/Sofia : 2020-12-11 17:22:12.486334+02:00\n",
      "Europe/Stockholm : 2020-12-11 16:22:12.487331+01:00\n",
      "Europe/Tallinn : 2020-12-11 17:22:12.488328+02:00\n",
      "Europe/Tirane : 2020-12-11 16:22:12.490323+01:00\n",
      "Europe/Tiraspol : 2020-12-11 17:22:12.491321+02:00\n",
      "Europe/Ulyanovsk : 2020-12-11 19:22:12.493266+04:00\n",
      "Europe/Uzhgorod : 2020-12-11 17:22:12.494265+02:00\n",
      "Europe/Vaduz : 2020-12-11 16:22:12.495263+01:00\n",
      "Europe/Vatican : 2020-12-11 16:22:12.497151+01:00\n",
      "Europe/Vienna : 2020-12-11 16:22:12.498150+01:00\n",
      "Europe/Vilnius : 2020-12-11 17:22:12.499147+02:00\n",
      "Europe/Volgograd : 2020-12-11 19:22:12.501076+04:00\n",
      "Europe/Warsaw : 2020-12-11 16:22:12.502250+01:00\n",
      "Europe/Zagreb : 2020-12-11 16:22:12.503248+01:00\n",
      "Europe/Zaporozhye : 2020-12-11 17:22:12.504246+02:00\n",
      "Europe/Zurich : 2020-12-11 16:22:12.506005+01:00\n",
      "GB : 2020-12-11 15:22:12.507314+00:00\n",
      "GB-Eire : 2020-12-11 15:22:12.508773+00:00\n",
      "GMT : 2020-12-11 15:22:12.509775+00:00\n",
      "GMT+0 : 2020-12-11 15:22:12.510770+00:00\n",
      "GMT-0 : 2020-12-11 15:22:12.511768+00:00\n",
      "GMT0 : 2020-12-11 15:22:12.512764+00:00\n",
      "Greenwich : 2020-12-11 15:22:12.513762+00:00\n",
      "HST : 2020-12-11 05:22:12.514760-10:00\n",
      "Hongkong : 2020-12-11 23:22:12.515757+08:00\n",
      "Iceland : 2020-12-11 15:22:12.517179+00:00\n",
      "Indian/Antananarivo : 2020-12-11 18:22:12.518178+03:00\n",
      "Indian/Chagos : 2020-12-11 21:22:12.519176+06:00\n",
      "Indian/Christmas : 2020-12-11 22:22:12.520172+07:00\n",
      "Indian/Cocos : 2020-12-11 21:52:12.521170+06:30\n",
      "Indian/Comoro : 2020-12-11 18:22:12.521170+03:00\n",
      "Indian/Kerguelen : 2020-12-11 20:22:12.522167+05:00\n",
      "Indian/Mahe : 2020-12-11 19:22:12.523164+04:00\n",
      "Indian/Maldives : 2020-12-11 20:22:12.524162+05:00\n",
      "Indian/Mauritius : 2020-12-11 19:22:12.525160+04:00\n",
      "Indian/Mayotte : 2020-12-11 18:22:12.526156+03:00\n",
      "Indian/Reunion : 2020-12-11 19:22:12.527154+04:00\n",
      "Iran : 2020-12-11 18:52:12.528151+03:30\n",
      "Israel : 2020-12-11 17:22:12.530062+02:00\n",
      "Jamaica : 2020-12-11 10:22:12.531061-05:00\n",
      "Japan : 2020-12-12 00:22:12.532059+09:00\n",
      "Kwajalein : 2020-12-12 03:22:12.533056+12:00\n",
      "Libya : 2020-12-11 17:22:12.534054+02:00\n",
      "MET : 2020-12-11 16:22:12.535269+01:00\n",
      "MST : 2020-12-11 08:22:12.536270-07:00\n",
      "MST7MDT : 2020-12-11 08:22:12.537266-07:00\n",
      "Mexico/BajaNorte : 2020-12-11 07:22:12.538262-08:00\n",
      "Mexico/BajaSur : 2020-12-11 08:22:12.540257-07:00\n",
      "Mexico/General : 2020-12-11 09:22:12.541314-06:00\n",
      "NZ : 2020-12-12 04:22:12.542535+13:00\n",
      "NZ-CHAT : 2020-12-12 05:07:12.543851+13:45\n",
      "Navajo : 2020-12-11 08:22:12.545113-07:00\n",
      "PRC : 2020-12-11 23:22:12.546112+08:00\n",
      "PST8PDT : 2020-12-11 07:22:12.547109-08:00\n",
      "Pacific/Apia : 2020-12-12 05:22:12.548107+14:00\n",
      "Pacific/Auckland : 2020-12-12 04:22:12.550102+13:00\n",
      "Pacific/Bougainville : 2020-12-12 02:22:12.551099+11:00\n",
      "Pacific/Chatham : 2020-12-12 05:07:12.552196+13:45\n",
      "Pacific/Chuuk : 2020-12-12 01:22:12.553195+10:00\n",
      "Pacific/Easter : 2020-12-11 10:22:12.554420-05:00\n",
      "Pacific/Efate : 2020-12-12 02:22:12.555419+11:00\n",
      "Pacific/Enderbury : 2020-12-12 04:22:12.556417+13:00\n",
      "Pacific/Fakaofo : 2020-12-12 04:22:12.557414+13:00\n",
      "Pacific/Fiji : 2020-12-12 04:22:12.558411+13:00\n",
      "Pacific/Funafuti : 2020-12-12 03:22:12.559498+12:00\n",
      "Pacific/Galapagos : 2020-12-11 09:22:12.560532-06:00\n",
      "Pacific/Gambier : 2020-12-11 06:22:12.561529-09:00\n",
      "Pacific/Guadalcanal : 2020-12-12 02:22:12.562528+11:00\n",
      "Pacific/Guam : 2020-12-12 01:22:12.563525+10:00\n",
      "Pacific/Honolulu : 2020-12-11 05:22:12.564521-10:00\n",
      "Pacific/Johnston : 2020-12-11 05:22:12.565522-10:00\n",
      "Pacific/Kiritimati : 2020-12-12 05:22:12.566516+14:00\n",
      "Pacific/Kosrae : 2020-12-12 02:22:12.567515+11:00\n",
      "Pacific/Kwajalein : 2020-12-12 03:22:12.568511+12:00\n",
      "Pacific/Majuro : 2020-12-12 03:22:12.569509+12:00\n",
      "Pacific/Marquesas : 2020-12-11 05:52:12.570506-09:30\n",
      "Pacific/Midway : 2020-12-11 04:22:12.571503-11:00\n",
      "Pacific/Nauru : 2020-12-12 03:22:12.572500+12:00\n",
      "Pacific/Niue : 2020-12-11 04:22:12.573507-11:00\n",
      "Pacific/Norfolk : 2020-12-12 03:22:12.574530+12:00\n",
      "Pacific/Noumea : 2020-12-12 02:22:12.575530+11:00\n",
      "Pacific/Pago_Pago : 2020-12-11 04:22:12.576527-11:00\n",
      "Pacific/Palau : 2020-12-12 00:22:12.577523+09:00\n",
      "Pacific/Pitcairn : 2020-12-11 07:22:12.578521-08:00\n",
      "Pacific/Pohnpei : 2020-12-12 02:22:12.578521+11:00\n",
      "Pacific/Ponape : 2020-12-12 02:22:12.579518+11:00\n",
      "Pacific/Port_Moresby : 2020-12-12 01:22:12.580516+10:00\n",
      "Pacific/Rarotonga : 2020-12-11 05:22:12.582164-10:00\n",
      "Pacific/Saipan : 2020-12-12 01:22:12.583163+10:00\n",
      "Pacific/Samoa : 2020-12-11 04:22:12.584161-11:00\n",
      "Pacific/Tahiti : 2020-12-11 05:22:12.585158-10:00\n",
      "Pacific/Tarawa : 2020-12-12 03:22:12.585158+12:00\n",
      "Pacific/Tongatapu : 2020-12-12 04:22:12.586155+13:00\n",
      "Pacific/Truk : 2020-12-12 01:22:12.587153+10:00\n",
      "Pacific/Wake : 2020-12-12 03:22:12.588151+12:00\n",
      "Pacific/Wallis : 2020-12-12 03:22:12.589148+12:00\n",
      "Pacific/Yap : 2020-12-12 01:22:12.590145+10:00\n",
      "Poland : 2020-12-11 16:22:12.591839+01:00\n",
      "Portugal : 2020-12-11 15:22:12.592839+00:00\n",
      "ROC : 2020-12-11 23:22:12.593836+08:00\n",
      "ROK : 2020-12-12 00:22:12.594834+09:00\n",
      "Singapore : 2020-12-11 23:22:12.595831+08:00\n",
      "Turkey : 2020-12-11 18:22:12.597784+03:00\n",
      "UCT : 2020-12-11 15:22:12.598784+00:00\n",
      "US/Alaska : 2020-12-11 06:22:12.599781-09:00\n",
      "US/Aleutian : 2020-12-11 05:22:12.601262-10:00\n",
      "US/Arizona : 2020-12-11 08:22:12.602260-07:00\n",
      "US/Central : 2020-12-11 09:22:12.603532-06:00\n",
      "US/East-Indiana : 2020-12-11 10:22:12.604974-05:00\n",
      "US/Eastern : 2020-12-11 10:22:12.606172-05:00\n",
      "US/Hawaii : 2020-12-11 05:22:12.607171-10:00\n",
      "US/Indiana-Starke : 2020-12-11 09:22:12.608514-06:00\n",
      "US/Michigan : 2020-12-11 10:22:12.609513-05:00\n",
      "US/Mountain : 2020-12-11 08:22:12.610511-07:00\n",
      "US/Pacific : 2020-12-11 07:22:12.612356-08:00\n",
      "US/Samoa : 2020-12-11 04:22:12.613355-11:00\n",
      "UTC : 2020-12-11 15:22:12.613355+00:00\n",
      "Universal : 2020-12-11 15:22:12.614353+00:00\n",
      "W-SU : 2020-12-11 18:22:12.616021+03:00\n",
      "WET : 2020-12-11 15:22:12.617217+00:00\n",
      "Zulu : 2020-12-11 15:22:12.618216+00:00\n"
     ]
    }
   ],
   "source": [
    "# jouons avec toutes les timezones\n",
    "for tz_str in pytz.all_timezones:\n",
    "    some_tz = pytz.timezone(tz_str)\n",
    "    dt = datetime.now(tz=some_tz)\n",
    "    print(tz_str,':',dt)"
   ]
  },
  {
   "cell_type": "code",
   "execution_count": 21,
   "metadata": {},
   "outputs": [
    {
     "name": "stdout",
     "output_type": "stream",
     "text": [
      "Aujourd'hui local : 2020-12-11\n",
      "Ailleurs on est un autre jour:\n",
      "\t-Antarctica/DumontDUrville : 2020-12-12 01:22:13.809203+10:00\n",
      "\t-Antarctica/Macquarie : 2020-12-12 02:22:13.809203+11:00\n",
      "\t-Antarctica/McMurdo : 2020-12-12 04:22:13.809203+13:00\n",
      "\t-Antarctica/South_Pole : 2020-12-12 04:22:13.809203+13:00\n",
      "\t-Asia/Anadyr : 2020-12-12 03:22:13.809203+12:00\n",
      "\t-Asia/Chita : 2020-12-12 00:22:13.810201+09:00\n",
      "\t-Asia/Dili : 2020-12-12 00:22:13.810201+09:00\n",
      "\t-Asia/Jayapura : 2020-12-12 00:22:13.810201+09:00\n",
      "\t-Asia/Kamchatka : 2020-12-12 03:22:13.810201+12:00\n",
      "\t-Asia/Khandyga : 2020-12-12 00:22:13.810201+09:00\n",
      "\t-Asia/Magadan : 2020-12-12 02:22:13.810201+11:00\n",
      "\t-Asia/Pyongyang : 2020-12-12 00:22:13.810201+09:00\n",
      "\t-Asia/Sakhalin : 2020-12-12 02:22:13.810201+11:00\n",
      "\t-Asia/Seoul : 2020-12-12 00:22:13.810201+09:00\n",
      "\t-Asia/Srednekolymsk : 2020-12-12 02:22:13.810201+11:00\n",
      "\t-Asia/Tokyo : 2020-12-12 00:22:13.810201+09:00\n",
      "\t-Asia/Ust-Nera : 2020-12-12 01:22:13.810201+10:00\n",
      "\t-Asia/Vladivostok : 2020-12-12 01:22:13.810201+10:00\n",
      "\t-Asia/Yakutsk : 2020-12-12 00:22:13.810201+09:00\n",
      "\t-Australia/ACT : 2020-12-12 02:22:13.811198+11:00\n",
      "\t-Australia/Adelaide : 2020-12-12 01:52:13.811198+10:30\n",
      "\t-Australia/Brisbane : 2020-12-12 01:22:13.811198+10:00\n",
      "\t-Australia/Broken_Hill : 2020-12-12 01:52:13.811198+10:30\n",
      "\t-Australia/Canberra : 2020-12-12 02:22:13.811198+11:00\n",
      "\t-Australia/Currie : 2020-12-12 02:22:13.811198+11:00\n",
      "\t-Australia/Darwin : 2020-12-12 00:52:13.811198+09:30\n",
      "\t-Australia/Eucla : 2020-12-12 00:07:13.811198+08:45\n",
      "\t-Australia/Hobart : 2020-12-12 02:22:13.811198+11:00\n",
      "\t-Australia/LHI : 2020-12-12 02:22:13.813192+11:00\n",
      "\t-Australia/Lindeman : 2020-12-12 01:22:13.813192+10:00\n",
      "\t-Australia/Lord_Howe : 2020-12-12 02:22:13.813192+11:00\n",
      "\t-Australia/Melbourne : 2020-12-12 02:22:13.813192+11:00\n",
      "\t-Australia/NSW : 2020-12-12 02:22:13.814201+11:00\n",
      "\t-Australia/North : 2020-12-12 00:52:13.814201+09:30\n",
      "\t-Australia/Queensland : 2020-12-12 01:22:13.814201+10:00\n",
      "\t-Australia/South : 2020-12-12 01:52:13.814201+10:30\n",
      "\t-Australia/Sydney : 2020-12-12 02:22:13.814201+11:00\n",
      "\t-Australia/Tasmania : 2020-12-12 02:22:13.814201+11:00\n",
      "\t-Australia/Victoria : 2020-12-12 02:22:13.814201+11:00\n",
      "\t-Australia/Yancowinna : 2020-12-12 01:52:13.814201+10:30\n",
      "\t-Etc/GMT-10 : 2020-12-12 01:22:13.814201+10:00\n",
      "\t-Etc/GMT-11 : 2020-12-12 02:22:13.814201+11:00\n",
      "\t-Etc/GMT-12 : 2020-12-12 03:22:13.814201+12:00\n",
      "\t-Etc/GMT-13 : 2020-12-12 04:22:13.814201+13:00\n",
      "\t-Etc/GMT-14 : 2020-12-12 05:22:13.814201+14:00\n",
      "\t-Etc/GMT-9 : 2020-12-12 00:22:13.814201+09:00\n",
      "\t-Japan : 2020-12-12 00:22:13.815187+09:00\n",
      "\t-Kwajalein : 2020-12-12 03:22:13.815187+12:00\n",
      "\t-NZ : 2020-12-12 04:22:13.816184+13:00\n",
      "\t-NZ-CHAT : 2020-12-12 05:07:13.816184+13:45\n",
      "\t-Pacific/Apia : 2020-12-12 05:22:13.816184+14:00\n",
      "\t-Pacific/Auckland : 2020-12-12 04:22:13.816184+13:00\n",
      "\t-Pacific/Bougainville : 2020-12-12 02:22:13.816184+11:00\n",
      "\t-Pacific/Chatham : 2020-12-12 05:07:13.816184+13:45\n",
      "\t-Pacific/Chuuk : 2020-12-12 01:22:13.816184+10:00\n",
      "\t-Pacific/Efate : 2020-12-12 02:22:13.816184+11:00\n",
      "\t-Pacific/Enderbury : 2020-12-12 04:22:13.816184+13:00\n",
      "\t-Pacific/Fakaofo : 2020-12-12 04:22:13.816184+13:00\n",
      "\t-Pacific/Fiji : 2020-12-12 04:22:13.816184+13:00\n",
      "\t-Pacific/Funafuti : 2020-12-12 03:22:13.816184+12:00\n",
      "\t-Pacific/Guadalcanal : 2020-12-12 02:22:13.816184+11:00\n",
      "\t-Pacific/Guam : 2020-12-12 01:22:13.816184+10:00\n",
      "\t-Pacific/Kiritimati : 2020-12-12 05:22:13.816184+14:00\n",
      "\t-Pacific/Kosrae : 2020-12-12 02:22:13.816184+11:00\n",
      "\t-Pacific/Kwajalein : 2020-12-12 03:22:13.816184+12:00\n",
      "\t-Pacific/Majuro : 2020-12-12 03:22:13.816184+12:00\n",
      "\t-Pacific/Nauru : 2020-12-12 03:22:13.816184+12:00\n",
      "\t-Pacific/Norfolk : 2020-12-12 03:22:13.816184+12:00\n",
      "\t-Pacific/Noumea : 2020-12-12 02:22:13.816184+11:00\n",
      "\t-Pacific/Palau : 2020-12-12 00:22:13.816184+09:00\n",
      "\t-Pacific/Pohnpei : 2020-12-12 02:22:13.816184+11:00\n",
      "\t-Pacific/Ponape : 2020-12-12 02:22:13.816184+11:00\n",
      "\t-Pacific/Port_Moresby : 2020-12-12 01:22:13.816184+10:00\n",
      "\t-Pacific/Saipan : 2020-12-12 01:22:13.816184+10:00\n",
      "\t-Pacific/Tarawa : 2020-12-12 03:22:13.816184+12:00\n",
      "\t-Pacific/Tongatapu : 2020-12-12 04:22:13.818178+13:00\n",
      "\t-Pacific/Truk : 2020-12-12 01:22:13.818178+10:00\n",
      "\t-Pacific/Wake : 2020-12-12 03:22:13.818178+12:00\n",
      "\t-Pacific/Wallis : 2020-12-12 03:22:13.818178+12:00\n",
      "\t-Pacific/Yap : 2020-12-12 01:22:13.819176+10:00\n",
      "\t-ROK : 2020-12-12 00:22:13.819176+09:00\n"
     ]
    }
   ],
   "source": [
    "aujourdhui_local = date.today()\n",
    "aujourdhui_dans_le_monde = ((tz_str, datetime.now(tz=pytz.timezone(tz_str)))\n",
    "                for tz_str in pytz.all_timezones)\n",
    "aujourdhui_different_local = ((tz_str,dt) \n",
    "                for tz_str,dt in aujourdhui_dans_le_monde if dt.date() != aujourdhui_local)\n",
    "print(\"Aujourd'hui local :\", aujourdhui_local)\n",
    "print(\"Ailleurs on est un autre jour:\")\n",
    "for tz_str, dt in aujourdhui_different_local:\n",
    "    print(f\"\\t-{tz_str} : {dt}\")"
   ]
  },
  {
   "cell_type": "markdown",
   "metadata": {},
   "source": [
    "## Histoire de 29 février\n",
    "NB : il existe un 30 février 1712 en Suède"
   ]
  },
  {
   "cell_type": "code",
   "execution_count": 22,
   "metadata": {
    "scrolled": true
   },
   "outputs": [
    {
     "data": {
      "text/plain": [
       "[datetime.date(2004, 2, 29),\n",
       " datetime.date(2008, 2, 29),\n",
       " datetime.date(2012, 2, 29),\n",
       " datetime.date(2016, 2, 29),\n",
       " datetime.date(2020, 2, 29),\n",
       " datetime.date(2024, 2, 29),\n",
       " datetime.date(2028, 2, 29),\n",
       " datetime.date(2032, 2, 29),\n",
       " datetime.date(2036, 2, 29),\n",
       " datetime.date(2040, 2, 29),\n",
       " datetime.date(2044, 2, 29),\n",
       " datetime.date(2048, 2, 29),\n",
       " datetime.date(2052, 2, 29),\n",
       " datetime.date(2056, 2, 29),\n",
       " datetime.date(2060, 2, 29),\n",
       " datetime.date(2064, 2, 29),\n",
       " datetime.date(2068, 2, 29),\n",
       " datetime.date(2072, 2, 29),\n",
       " datetime.date(2076, 2, 29),\n",
       " datetime.date(2080, 2, 29),\n",
       " datetime.date(2084, 2, 29),\n",
       " datetime.date(2088, 2, 29),\n",
       " datetime.date(2092, 2, 29),\n",
       " datetime.date(2096, 2, 29)]"
      ]
     },
     "execution_count": 22,
     "metadata": {},
     "output_type": "execute_result"
    }
   ],
   "source": [
    "# tous les 4 ans\n",
    "[ date(y, 2, 29) for y in range(2004,2100,4) ] "
   ]
  },
  {
   "cell_type": "code",
   "execution_count": 24,
   "metadata": {},
   "outputs": [
    {
     "name": "stdout",
     "output_type": "stream",
     "text": [
      "Année bissextile en 2100 : False : day is out of range for month\n",
      "Année bissextile en 2200 : False : day is out of range for month\n",
      "Année bissextile en 2300 : False : day is out of range for month\n"
     ]
    }
   ],
   "source": [
    "# sauf tous les 100 ans\n",
    "for y in range(2100,2400,100):\n",
    "    try:\n",
    "        d = date(y,2,29)\n",
    "    except ValueError as e:\n",
    "        print(f\"Année bissextile en {y}\", calendar.isleap(y), e, sep=\" : \")\n"
   ]
  },
  {
   "cell_type": "code",
   "execution_count": 25,
   "metadata": {},
   "outputs": [
    {
     "data": {
      "text/plain": [
       "[datetime.date(1600, 2, 29),\n",
       " datetime.date(2000, 2, 29),\n",
       " datetime.date(2400, 2, 29),\n",
       " datetime.date(2800, 2, 29)]"
      ]
     },
     "execution_count": 25,
     "metadata": {},
     "output_type": "execute_result"
    }
   ],
   "source": [
    "# sauf sauf tous les 400\n",
    "[ date(y, 2, 29) for y in range(1600,3000,400) ]"
   ]
  },
  {
   "cell_type": "markdown",
   "metadata": {},
   "source": [
    "## Calendrier"
   ]
  },
  {
   "cell_type": "code",
   "execution_count": 26,
   "metadata": {},
   "outputs": [
    {
     "name": "stdout",
     "output_type": "stream",
     "text": [
      "                                  2019\n",
      "\n",
      "      janvier                   février                     mars\n",
      "lu ma me je ve sa di      lu ma me je ve sa di      lu ma me je ve sa di\n",
      "    1  2  3  4  5  6                   1  2  3                   1  2  3\n",
      " 7  8  9 10 11 12 13       4  5  6  7  8  9 10       4  5  6  7  8  9 10\n",
      "14 15 16 17 18 19 20      11 12 13 14 15 16 17      11 12 13 14 15 16 17\n",
      "21 22 23 24 25 26 27      18 19 20 21 22 23 24      18 19 20 21 22 23 24\n",
      "28 29 30 31               25 26 27 28               25 26 27 28 29 30 31\n",
      "\n",
      "       avril                      mai                       juin\n",
      "lu ma me je ve sa di      lu ma me je ve sa di      lu ma me je ve sa di\n",
      " 1  2  3  4  5  6  7             1  2  3  4  5                      1  2\n",
      " 8  9 10 11 12 13 14       6  7  8  9 10 11 12       3  4  5  6  7  8  9\n",
      "15 16 17 18 19 20 21      13 14 15 16 17 18 19      10 11 12 13 14 15 16\n",
      "22 23 24 25 26 27 28      20 21 22 23 24 25 26      17 18 19 20 21 22 23\n",
      "29 30                     27 28 29 30 31            24 25 26 27 28 29 30\n",
      "\n",
      "      juillet                     août                   septembre\n",
      "lu ma me je ve sa di      lu ma me je ve sa di      lu ma me je ve sa di\n",
      " 1  2  3  4  5  6  7                1  2  3  4                         1\n",
      " 8  9 10 11 12 13 14       5  6  7  8  9 10 11       2  3  4  5  6  7  8\n",
      "15 16 17 18 19 20 21      12 13 14 15 16 17 18       9 10 11 12 13 14 15\n",
      "22 23 24 25 26 27 28      19 20 21 22 23 24 25      16 17 18 19 20 21 22\n",
      "29 30 31                  26 27 28 29 30 31         23 24 25 26 27 28 29\n",
      "                                                    30\n",
      "\n",
      "      octobre                   novembre                  décembre\n",
      "lu ma me je ve sa di      lu ma me je ve sa di      lu ma me je ve sa di\n",
      "    1  2  3  4  5  6                   1  2  3                         1\n",
      " 7  8  9 10 11 12 13       4  5  6  7  8  9 10       2  3  4  5  6  7  8\n",
      "14 15 16 17 18 19 20      11 12 13 14 15 16 17       9 10 11 12 13 14 15\n",
      "21 22 23 24 25 26 27      18 19 20 21 22 23 24      16 17 18 19 20 21 22\n",
      "28 29 30 31               25 26 27 28 29 30         23 24 25 26 27 28 29\n",
      "                                                    30 31\n",
      "\n"
     ]
    }
   ],
   "source": [
    "locale.setlocale(locale.LC_ALL, 'fr_FR.UTF8')\n",
    "print(calendar.calendar(2019))"
   ]
  },
  {
   "cell_type": "code",
   "execution_count": 27,
   "metadata": {
    "scrolled": true
   },
   "outputs": [
    {
     "data": {
      "text/plain": [
       "[datetime.date(2019, 1, 28),\n",
       " datetime.date(2019, 1, 29),\n",
       " datetime.date(2019, 1, 30),\n",
       " datetime.date(2019, 1, 31),\n",
       " datetime.date(2019, 2, 1),\n",
       " datetime.date(2019, 2, 2),\n",
       " datetime.date(2019, 2, 3),\n",
       " datetime.date(2019, 2, 4),\n",
       " datetime.date(2019, 2, 5),\n",
       " datetime.date(2019, 2, 6),\n",
       " datetime.date(2019, 2, 7),\n",
       " datetime.date(2019, 2, 8),\n",
       " datetime.date(2019, 2, 9),\n",
       " datetime.date(2019, 2, 10),\n",
       " datetime.date(2019, 2, 11),\n",
       " datetime.date(2019, 2, 12),\n",
       " datetime.date(2019, 2, 13),\n",
       " datetime.date(2019, 2, 14),\n",
       " datetime.date(2019, 2, 15),\n",
       " datetime.date(2019, 2, 16),\n",
       " datetime.date(2019, 2, 17),\n",
       " datetime.date(2019, 2, 18),\n",
       " datetime.date(2019, 2, 19),\n",
       " datetime.date(2019, 2, 20),\n",
       " datetime.date(2019, 2, 21),\n",
       " datetime.date(2019, 2, 22),\n",
       " datetime.date(2019, 2, 23),\n",
       " datetime.date(2019, 2, 24),\n",
       " datetime.date(2019, 2, 25),\n",
       " datetime.date(2019, 2, 26),\n",
       " datetime.date(2019, 2, 27),\n",
       " datetime.date(2019, 2, 28),\n",
       " datetime.date(2019, 3, 1),\n",
       " datetime.date(2019, 3, 2),\n",
       " datetime.date(2019, 3, 3)]"
      ]
     },
     "execution_count": 27,
     "metadata": {},
     "output_type": "execute_result"
    }
   ],
   "source": [
    "# les jours des semaines du mois de février 2019\n",
    "cal = calendar.Calendar()\n",
    "list(cal.itermonthdates(2019,2))"
   ]
  }
 ],
 "metadata": {
  "kernelspec": {
   "display_name": "Python 3",
   "language": "python",
   "name": "python3"
  },
  "language_info": {
   "codemirror_mode": {
    "name": "ipython",
    "version": 3
   },
   "file_extension": ".py",
   "mimetype": "text/x-python",
   "name": "python",
   "nbconvert_exporter": "python",
   "pygments_lexer": "ipython3",
   "version": "3.8.6"
  }
 },
 "nbformat": 4,
 "nbformat_minor": 2
}
